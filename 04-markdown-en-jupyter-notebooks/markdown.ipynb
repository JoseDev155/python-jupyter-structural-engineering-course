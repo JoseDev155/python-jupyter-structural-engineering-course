{
 "cells": [
  {
   "cell_type": "markdown",
   "metadata": {},
   "source": [
    "# Markdown"
   ]
  },
  {
   "cell_type": "markdown",
   "metadata": {},
   "source": [
    "---\n",
    "Texto de enfasis\n",
    "---"
   ]
  },
  {
   "cell_type": "markdown",
   "metadata": {},
   "source": [
    "---"
   ]
  },
  {
   "cell_type": "markdown",
   "metadata": {},
   "source": [
    "*Cursiva* o _texto en cursiva_"
   ]
  },
  {
   "cell_type": "markdown",
   "metadata": {},
   "source": [
    "**Negrita**"
   ]
  },
  {
   "cell_type": "markdown",
   "metadata": {},
   "source": [
    "texto en formato normal"
   ]
  },
  {
   "cell_type": "markdown",
   "metadata": {},
   "source": [
    "***Negrita y Cursiva***"
   ]
  },
  {
   "cell_type": "markdown",
   "metadata": {},
   "source": [
    "~~Tachado~~\n",
    "~~aqui colocas el texto que quieres tachar~~\n",
    "\n",
    "---"
   ]
  },
  {
   "cell_type": "markdown",
   "metadata": {},
   "source": [
    "**SECCIONES**\n",
    "\n",
    "```markdown\n",
    "# Seccion 1\n",
    "## Seccion 1.1\n",
    "# Seccion 2\n",
    "## Sub-seccion debajo de la seccion 2\n",
    "### Sub seccion debajo de la sub-seccion 2 2\n",
    "# Seccion 3\n",
    "```\n",
    "\n",
    "---"
   ]
  },
  {
   "cell_type": "markdown",
   "metadata": {},
   "source": [
    "Listas:\n",
    "\n",
    "* Forma 1\n",
    "\n",
    "- Forma 2\n",
    "\n",
    "- Lista\n",
    "  - Sub-lista debajo de la lista\n",
    "    - Sub-lista debajo de una sub-lista\n",
    "\n",
    "1. Lista ordenada\n",
    "1. Lista ordenada\n",
    "   1. Sub-lista ordenada debajo de la lista ordenada"
   ]
  },
  {
   "cell_type": "markdown",
   "metadata": {},
   "source": [
    "---"
   ]
  },
  {
   "cell_type": "markdown",
   "metadata": {},
   "source": [
    "### BLOQUE DE CODIGO"
   ]
  },
  {
   "cell_type": "markdown",
   "metadata": {},
   "source": [
    "Si quieres crear un bloque entero que contenga código. Lo único que tienes que hacer es encerrar dicho párrafo entre dos líneas formadas por tres `.\n",
    "\n",
    "`Alt + 96`\n",
    "\n",
    "```python\n",
    "def nombre_funcion(input1, input2, ..., inputn):\n",
    "    cuerpo de la funcion\n",
    "    return output\n",
    "```\n",
    "\n",
    "```java\n",
    "script type=\"text/javascript\">\n",
    "    function fancyAlert(arg) {\n",
    "        if(arg) {\n",
    "            $.facebox({div:'#foo'})\n",
    "        }\n",
    "    }\n",
    "```\n",
    "\n",
    "```python\n",
    "Li = object.define(corri,   # Coordenada i\n",
    "                    coork,  # Coordenada i\n",
    "                    A,      # Area de la seccion\n",
    "                    E,      # Modulo de elasticidad\n",
    "                    I,      # Inercia de la seccion\n",
    "                    J,      # Torsion\n",
    "                    mass)   # Masa modal\n",
    "```\n",
    "\n",
    "---"
   ]
  },
  {
   "cell_type": "markdown",
   "metadata": {},
   "source": [
    "### LINKS DE ENLACES"
   ]
  },
  {
   "cell_type": "markdown",
   "metadata": {},
   "source": [
    "Son los enlaces de toda la vida. Como su nombre indica, se encuentran en línea con el texto.\n",
    "\n",
    "```markdown\n",
    "[nombre de tu referencia] (http:www.tuenlace.com)\n",
    "```"
   ]
  },
  {
   "cell_type": "markdown",
   "metadata": {},
   "source": [
    "---\n",
    "\n",
    "### IMAGENES"
   ]
  },
  {
   "cell_type": "markdown",
   "metadata": {},
   "source": [
    "Insertar una imagen con Markdown se realiza de una manera prácticamente idéntica a insertar links.\n",
    "\n",
    "Solo que en este caso, deberás añadir un símbolo de ! exclamación al principio y el enlace no será otro que la ubicación de la imagen\n",
    "\n",
    "```markdown\n",
    "![Texto alternativo](/ruta/a/la/imagen.jpg)\n",
    "```"
   ]
  },
  {
   "cell_type": "markdown",
   "metadata": {},
   "source": [
    "```html\n",
    "<p align=\"center\">\n",
    "    <img src=\"enlace-o-ruta\" alt=\"drawing\" width=\"100\" />\n",
    "</p>\n",
    "```"
   ]
  },
  {
   "cell_type": "markdown",
   "metadata": {},
   "source": [
    "---\n",
    "\n",
    "### TABLAS"
   ]
  },
  {
   "cell_type": "markdown",
   "metadata": {},
   "source": [
    "| How | To | Make | a table\n",
    "| --- | --- | --- | ---\n",
    "| in  | Jupyter | Notebook| Markdown\n",
    "| It  | is | really| cool"
   ]
  },
  {
   "cell_type": "markdown",
   "metadata": {},
   "source": [
    "---\n",
    "\n",
    "### INDENTACION"
   ]
  },
  {
   "cell_type": "markdown",
   "metadata": {},
   "source": [
    "```markdown\n",
    "> Un nivel de Indentacion\n",
    "```\n",
    "\n",
    "```markdown\n",
    ">> Dos niveles de indentacion\n",
    "```"
   ]
  },
  {
   "cell_type": "markdown",
   "metadata": {},
   "source": [
    "> 1 Blockquotes\n",
    ">> 2 Blockquotes\n",
    ">>> 3 Blockquotes\n",
    ">>>> 4 Blockquotes\n",
    ">>>>>>>> 8 Blockquotes"
   ]
  },
  {
   "cell_type": "markdown",
   "metadata": {},
   "source": [
    "Incluso puedes concatenar varios >> para crear citas anidadas."
   ]
  },
  {
   "cell_type": "markdown",
   "metadata": {},
   "source": [
    "> Esto es una cita como la que acabas de ver.\n",
    ">\n",
    "> > Dentro de ella puedes anidar otra cita.\n",
    ">\n",
    "> La cita principal llegaría hasta aquí."
   ]
  },
  {
   "cell_type": "markdown",
   "metadata": {},
   "source": [
    "---"
   ]
  },
  {
   "cell_type": "markdown",
   "metadata": {},
   "source": [
    "$$x^{2}+3x_{b} = \\sum f_{{x}}$$\n",
    "\n",
    "[Calculadora Latex](https://latex.codecogs.com/eqneditor/editor.php?lang=es-es)"
   ]
  }
 ],
 "metadata": {
  "kernelspec": {
   "display_name": "venv-markdown",
   "language": "python",
   "name": "python3"
  },
  "language_info": {
   "codemirror_mode": {
    "name": "ipython",
    "version": 3
   },
   "file_extension": ".py",
   "mimetype": "text/x-python",
   "name": "python",
   "nbconvert_exporter": "python",
   "pygments_lexer": "ipython3",
   "version": "3.13.1"
  }
 },
 "nbformat": 4,
 "nbformat_minor": 2
}
