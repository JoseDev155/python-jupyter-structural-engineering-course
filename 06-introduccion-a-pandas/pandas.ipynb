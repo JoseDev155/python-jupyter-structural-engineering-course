{
 "cells": [
  {
   "cell_type": "markdown",
   "metadata": {},
   "source": [
    "# Introducción a Pandas para Ingeniería civil\n",
    "## pandas\n",
    "### INTRODUCCIÓN A PANDAS\n",
    "\n",
    ">Nos va a permitir trabajar con datos, leer un archivo en Excel, CSV, `.txt` y poder manipularlo dentro de Python. Nosotros vamos a extraer información de una\n",
    ">tabla en Etabs.\n",
    "\n",
    "Hasta ahora hemos encontrado cuatro tipos de estructuras de datos: listas, diccionarios, tuplas y arrays de NumPy. Estas estructuras son útiles cuando los\n",
    "datos que manejamos son relativamente simples, especialmente los arrays de NumPy están diseñados para trabajar **rápido** con matrices regulares. Pero,\n",
    "¿qué hay cuando, por ejemplo, necesitamos importar datos desde una tabla de Excel? ¿Y si necesitamos estructurar, filtrar y categorizar los datos\n",
    "contenidos en una tabla? Pues bien, eso es exactamente para lo que **Pandas** fue diseñado: manejar grandes y complejas estructuras de datos de forma sencilla.\n",
    "\n",
    "La principal herramienta que Pandas provee a sus usuarios es un nuevo tipo de datos llamado **DataFrame**. Podemos pensar en los DataFrame como estructuras de datos bidimensionales con encabezados tanto para columnas como para filas. Le permite a los usuarios llevar a cabo todo tipo de operaciones sobre los valores contenidos dentro de ellas, desde un simple seccionamiento hasta complejos sistemas de interpolación. A continuación nos pasearemos por las principales características de Pandas.\n",
    "\n",
    "### Importando la biblioteca\n",
    "\n",
    "Nuevamente será necesario instalar la biblioteca previamente en el entorno de desarrollo virtual. Puedes guiarte de la siguiente celda para ejecutar desde el terminal la instalación:\n",
    "\n",
    "```bash\n",
    "pip install pandas\n",
    "```\n",
    "Luego de instalada la biblioteca podemos importarla y dar los primeros pasos"
   ]
  },
  {
   "cell_type": "code",
   "execution_count": 76,
   "metadata": {},
   "outputs": [],
   "source": [
    "import pandas as pd"
   ]
  },
  {
   "cell_type": "markdown",
   "metadata": {},
   "source": [
    "Al importar Pandas es un estandar utilizar las letras **\"pd\"** para identificar la biblioteca.\n",
    "\n",
    "### DataFrames\n",
    "\n",
    "La mejor manera de entender como funciona Pandas es creando un DataFrame simple y usarlo para probar las funcionalidades de la biblioteca."
   ]
  },
  {
   "cell_type": "code",
   "execution_count": 77,
   "metadata": {},
   "outputs": [
    {
     "data": {
      "application/vnd.microsoft.datawrangler.viewer.v0+json": {
       "columns": [
        {
         "name": "index",
         "rawType": "int64",
         "type": "integer"
        },
        {
         "name": "A",
         "rawType": "int64",
         "type": "integer"
        },
        {
         "name": "B",
         "rawType": "int64",
         "type": "integer"
        },
        {
         "name": "C",
         "rawType": "int64",
         "type": "integer"
        }
       ],
       "ref": "676ad00c-2dce-450e-b51d-6b04f67a7167",
       "rows": [
        [
         "1",
         "4",
         "9",
         "5"
        ],
        [
         "2",
         "2",
         "1",
         "7"
        ],
        [
         "3",
         "6",
         "8",
         "4"
        ]
       ],
       "shape": {
        "columns": 3,
        "rows": 3
       }
      },
      "text/html": [
       "<div>\n",
       "<style scoped>\n",
       "    .dataframe tbody tr th:only-of-type {\n",
       "        vertical-align: middle;\n",
       "    }\n",
       "\n",
       "    .dataframe tbody tr th {\n",
       "        vertical-align: top;\n",
       "    }\n",
       "\n",
       "    .dataframe thead th {\n",
       "        text-align: right;\n",
       "    }\n",
       "</style>\n",
       "<table border=\"1\" class=\"dataframe\">\n",
       "  <thead>\n",
       "    <tr style=\"text-align: right;\">\n",
       "      <th></th>\n",
       "      <th>A</th>\n",
       "      <th>B</th>\n",
       "      <th>C</th>\n",
       "    </tr>\n",
       "  </thead>\n",
       "  <tbody>\n",
       "    <tr>\n",
       "      <th>1</th>\n",
       "      <td>4</td>\n",
       "      <td>9</td>\n",
       "      <td>5</td>\n",
       "    </tr>\n",
       "    <tr>\n",
       "      <th>2</th>\n",
       "      <td>2</td>\n",
       "      <td>1</td>\n",
       "      <td>7</td>\n",
       "    </tr>\n",
       "    <tr>\n",
       "      <th>3</th>\n",
       "      <td>6</td>\n",
       "      <td>8</td>\n",
       "      <td>4</td>\n",
       "    </tr>\n",
       "  </tbody>\n",
       "</table>\n",
       "</div>"
      ],
      "text/plain": [
       "   A  B  C\n",
       "1  4  9  5\n",
       "2  2  1  7\n",
       "3  6  8  4"
      ]
     },
     "execution_count": 77,
     "metadata": {},
     "output_type": "execute_result"
    }
   ],
   "source": [
    "data = {\"A\": [4, 2, 6],\n",
    "        \"B\": [9, 1, 8],\n",
    "        \"C\": [5, 7, 4]}\n",
    "\n",
    "df = pd.DataFrame(data = data, index = [1, 2, 3])\n",
    "df"
   ]
  },
  {
   "cell_type": "markdown",
   "metadata": {},
   "source": [
    "Como vemos en la celda anterior, la función **pd.DataFrame()** nos permite inicializar un DataFrame columnas por columnas. El diccionario pasado entre\n",
    "llaves al parametro *data* se utiliza para definir las columnas con sus encabezados y contenido por fila. El parámetro opcional *index* se utiliza para\n",
    "especificar las etiquetas asignadas a cada fila. Nota que la longitud de la lista pasada al parámetro *index* deben ser igual a la longitud de las columnas\n",
    "de datos.\n",
    "\n",
    "### Creando un DataFrame desde un array de NumPy\n",
    "\n",
    "Esta es una operación muy común y la sintaxis es realmente muy sencilla:"
   ]
  },
  {
   "cell_type": "code",
   "execution_count": 78,
   "metadata": {},
   "outputs": [
    {
     "data": {
      "text/plain": [
       "array([[5, 8, 4, 1],\n",
       "       [7, 2, 0, 4],\n",
       "       [6, 0, 3, 8],\n",
       "       [7, 7, 6, 6]], dtype=int32)"
      ]
     },
     "execution_count": 78,
     "metadata": {},
     "output_type": "execute_result"
    }
   ],
   "source": [
    "import numpy as np\n",
    "\n",
    "matriz = np.random.randint(0, 10, (4, 4))\n",
    "matriz"
   ]
  },
  {
   "cell_type": "code",
   "execution_count": 79,
   "metadata": {},
   "outputs": [
    {
     "data": {
      "application/vnd.microsoft.datawrangler.viewer.v0+json": {
       "columns": [
        {
         "name": "index",
         "rawType": "int64",
         "type": "integer"
        },
        {
         "name": "Enero",
         "rawType": "int32",
         "type": "integer"
        },
        {
         "name": "Febrero",
         "rawType": "int32",
         "type": "integer"
        },
        {
         "name": "Marzo",
         "rawType": "int32",
         "type": "integer"
        },
        {
         "name": "Abril",
         "rawType": "int32",
         "type": "integer"
        }
       ],
       "ref": "c9603e10-b9c3-4adb-9bd7-f9ed75e7dc1a",
       "rows": [
        [
         "0",
         "5",
         "8",
         "4",
         "1"
        ],
        [
         "1",
         "7",
         "2",
         "0",
         "4"
        ],
        [
         "2",
         "6",
         "0",
         "3",
         "8"
        ],
        [
         "3",
         "7",
         "7",
         "6",
         "6"
        ]
       ],
       "shape": {
        "columns": 4,
        "rows": 4
       }
      },
      "text/html": [
       "<div>\n",
       "<style scoped>\n",
       "    .dataframe tbody tr th:only-of-type {\n",
       "        vertical-align: middle;\n",
       "    }\n",
       "\n",
       "    .dataframe tbody tr th {\n",
       "        vertical-align: top;\n",
       "    }\n",
       "\n",
       "    .dataframe thead th {\n",
       "        text-align: right;\n",
       "    }\n",
       "</style>\n",
       "<table border=\"1\" class=\"dataframe\">\n",
       "  <thead>\n",
       "    <tr style=\"text-align: right;\">\n",
       "      <th></th>\n",
       "      <th>Enero</th>\n",
       "      <th>Febrero</th>\n",
       "      <th>Marzo</th>\n",
       "      <th>Abril</th>\n",
       "    </tr>\n",
       "  </thead>\n",
       "  <tbody>\n",
       "    <tr>\n",
       "      <th>0</th>\n",
       "      <td>5</td>\n",
       "      <td>8</td>\n",
       "      <td>4</td>\n",
       "      <td>1</td>\n",
       "    </tr>\n",
       "    <tr>\n",
       "      <th>1</th>\n",
       "      <td>7</td>\n",
       "      <td>2</td>\n",
       "      <td>0</td>\n",
       "      <td>4</td>\n",
       "    </tr>\n",
       "    <tr>\n",
       "      <th>2</th>\n",
       "      <td>6</td>\n",
       "      <td>0</td>\n",
       "      <td>3</td>\n",
       "      <td>8</td>\n",
       "    </tr>\n",
       "    <tr>\n",
       "      <th>3</th>\n",
       "      <td>7</td>\n",
       "      <td>7</td>\n",
       "      <td>6</td>\n",
       "      <td>6</td>\n",
       "    </tr>\n",
       "  </tbody>\n",
       "</table>\n",
       "</div>"
      ],
      "text/plain": [
       "   Enero  Febrero  Marzo  Abril\n",
       "0      5        8      4      1\n",
       "1      7        2      0      4\n",
       "2      6        0      3      8\n",
       "3      7        7      6      6"
      ]
     },
     "execution_count": 79,
     "metadata": {},
     "output_type": "execute_result"
    }
   ],
   "source": [
    "numpy_df = pd.DataFrame(matriz, columns=[\"Enero\", \"Febrero\", \"Marzo\", \"Abril\"])\n",
    "numpy_df"
   ]
  },
  {
   "cell_type": "markdown",
   "metadata": {},
   "source": [
    "En la primera línea importamos NumPy, debido a que hasta ahora solo habíamos importado Pandas. Luego pasamos a crear un array de enteros con valores\n",
    "aleatorios entre 0 y 10, con la forma (4, 4), y lo asignamos a la variable **matriz**. En la siguiente línea creamos el DataFrame **numpy_df** utilizando\n",
    "los valores almacenados en **matriz**, y utilizamos el parámetro *columns* para pasar una lista con las etiquetas de cada columna. Este último paso no es\n",
    "obligatorio. Si lo omitiéramos Pandas simplemente crearía el DataFrame con el nombre de las columnas empezando en 0 y terminando en 3.\n",
    "\n",
    "### Cambiando la forma de un DataFrame\n",
    "\n",
    "Pandas ofrece numerosas funciones para gestionar las filas y columnas de un DataFrame, así que vamos a echar un vistazo a las más utilizadas:\n",
    "\n",
    "#### Ordenar valor *sort_values*\n",
    "\n",
    "Esta función se utiliza para ordenar las filas en un orden específico. Por ejemplo, utilizando del DataFrame creado previamente podríamos ordenar las filas según los valores de la columna **B**:"
   ]
  },
  {
   "cell_type": "code",
   "execution_count": 80,
   "metadata": {},
   "outputs": [
    {
     "data": {
      "application/vnd.microsoft.datawrangler.viewer.v0+json": {
       "columns": [
        {
         "name": "index",
         "rawType": "int64",
         "type": "integer"
        },
        {
         "name": "A",
         "rawType": "int64",
         "type": "integer"
        },
        {
         "name": "B",
         "rawType": "int64",
         "type": "integer"
        },
        {
         "name": "C",
         "rawType": "int64",
         "type": "integer"
        }
       ],
       "ref": "36498b47-b480-4e9f-884f-fb10379fcab0",
       "rows": [
        [
         "1",
         "4",
         "9",
         "5"
        ],
        [
         "2",
         "2",
         "1",
         "7"
        ],
        [
         "3",
         "6",
         "8",
         "4"
        ]
       ],
       "shape": {
        "columns": 3,
        "rows": 3
       }
      },
      "text/html": [
       "<div>\n",
       "<style scoped>\n",
       "    .dataframe tbody tr th:only-of-type {\n",
       "        vertical-align: middle;\n",
       "    }\n",
       "\n",
       "    .dataframe tbody tr th {\n",
       "        vertical-align: top;\n",
       "    }\n",
       "\n",
       "    .dataframe thead th {\n",
       "        text-align: right;\n",
       "    }\n",
       "</style>\n",
       "<table border=\"1\" class=\"dataframe\">\n",
       "  <thead>\n",
       "    <tr style=\"text-align: right;\">\n",
       "      <th></th>\n",
       "      <th>A</th>\n",
       "      <th>B</th>\n",
       "      <th>C</th>\n",
       "    </tr>\n",
       "  </thead>\n",
       "  <tbody>\n",
       "    <tr>\n",
       "      <th>1</th>\n",
       "      <td>4</td>\n",
       "      <td>9</td>\n",
       "      <td>5</td>\n",
       "    </tr>\n",
       "    <tr>\n",
       "      <th>2</th>\n",
       "      <td>2</td>\n",
       "      <td>1</td>\n",
       "      <td>7</td>\n",
       "    </tr>\n",
       "    <tr>\n",
       "      <th>3</th>\n",
       "      <td>6</td>\n",
       "      <td>8</td>\n",
       "      <td>4</td>\n",
       "    </tr>\n",
       "  </tbody>\n",
       "</table>\n",
       "</div>"
      ],
      "text/plain": [
       "   A  B  C\n",
       "1  4  9  5\n",
       "2  2  1  7\n",
       "3  6  8  4"
      ]
     },
     "execution_count": 80,
     "metadata": {},
     "output_type": "execute_result"
    }
   ],
   "source": [
    "df"
   ]
  },
  {
   "cell_type": "code",
   "execution_count": 81,
   "metadata": {},
   "outputs": [],
   "source": [
    "df.sort_values(\"B\", inplace=True)\n",
    "# df.sort_values(\"B\")\n",
    "# df = df.sort_values(\"B\")"
   ]
  },
  {
   "cell_type": "code",
   "execution_count": 82,
   "metadata": {},
   "outputs": [
    {
     "data": {
      "application/vnd.microsoft.datawrangler.viewer.v0+json": {
       "columns": [
        {
         "name": "index",
         "rawType": "int64",
         "type": "integer"
        },
        {
         "name": "A",
         "rawType": "int64",
         "type": "integer"
        },
        {
         "name": "B",
         "rawType": "int64",
         "type": "integer"
        },
        {
         "name": "C",
         "rawType": "int64",
         "type": "integer"
        }
       ],
       "ref": "b1e43816-6668-4144-b086-046e991c4c5f",
       "rows": [
        [
         "2",
         "2",
         "1",
         "7"
        ],
        [
         "3",
         "6",
         "8",
         "4"
        ],
        [
         "1",
         "4",
         "9",
         "5"
        ]
       ],
       "shape": {
        "columns": 3,
        "rows": 3
       }
      },
      "text/html": [
       "<div>\n",
       "<style scoped>\n",
       "    .dataframe tbody tr th:only-of-type {\n",
       "        vertical-align: middle;\n",
       "    }\n",
       "\n",
       "    .dataframe tbody tr th {\n",
       "        vertical-align: top;\n",
       "    }\n",
       "\n",
       "    .dataframe thead th {\n",
       "        text-align: right;\n",
       "    }\n",
       "</style>\n",
       "<table border=\"1\" class=\"dataframe\">\n",
       "  <thead>\n",
       "    <tr style=\"text-align: right;\">\n",
       "      <th></th>\n",
       "      <th>A</th>\n",
       "      <th>B</th>\n",
       "      <th>C</th>\n",
       "    </tr>\n",
       "  </thead>\n",
       "  <tbody>\n",
       "    <tr>\n",
       "      <th>2</th>\n",
       "      <td>2</td>\n",
       "      <td>1</td>\n",
       "      <td>7</td>\n",
       "    </tr>\n",
       "    <tr>\n",
       "      <th>3</th>\n",
       "      <td>6</td>\n",
       "      <td>8</td>\n",
       "      <td>4</td>\n",
       "    </tr>\n",
       "    <tr>\n",
       "      <th>1</th>\n",
       "      <td>4</td>\n",
       "      <td>9</td>\n",
       "      <td>5</td>\n",
       "    </tr>\n",
       "  </tbody>\n",
       "</table>\n",
       "</div>"
      ],
      "text/plain": [
       "   A  B  C\n",
       "2  2  1  7\n",
       "3  6  8  4\n",
       "1  4  9  5"
      ]
     },
     "execution_count": 82,
     "metadata": {},
     "output_type": "execute_result"
    }
   ],
   "source": [
    "df"
   ]
  },
  {
   "cell_type": "markdown",
   "metadata": {},
   "source": [
    "Como puedes ver, las filas se han ordenado de forma ascendente con respecto a los valores contenidos en la columna **B**. Nota que los índices del DataFrame\n",
    "han sido afectados también, y que estos siguen conectados a sus respectivas filas.\n",
    "\n",
    "> *NOTA*: Es importante especificar que con funciones como *sort_value* la nueva configuración del DataFrame no queda almacenada en la variable *df*. A\n",
    "> fin de mantener la nueva configuración deberás llamar a la función y asignar el resultado al propio DataFrame o a un nuevo DataFrame:\n",
    ">\n",
    "> *df = df.sort_values(\"B\")*\n",
    ">\n",
    "> También puedes utilizar el parámetro opcional *inplace=True* para especificar que se edite el DataFrame base:\n",
    ">\n",
    "> *df.sort_values(\"B\", inplace=True)*\n",
    "\n",
    "#### Renombrar\n",
    "\n",
    "Con *rename* podemos asignar nuevos nombres a filas y columnas en el DataFrame:"
   ]
  },
  {
   "cell_type": "code",
   "execution_count": 83,
   "metadata": {},
   "outputs": [
    {
     "data": {
      "application/vnd.microsoft.datawrangler.viewer.v0+json": {
       "columns": [
        {
         "name": "index",
         "rawType": "int64",
         "type": "integer"
        },
        {
         "name": "A",
         "rawType": "int64",
         "type": "integer"
        },
        {
         "name": "B",
         "rawType": "int64",
         "type": "integer"
        },
        {
         "name": "C",
         "rawType": "int64",
         "type": "integer"
        }
       ],
       "ref": "99fe78cc-2a6c-40a1-8a5c-874820ae9b32",
       "rows": [
        [
         "2",
         "2",
         "1",
         "7"
        ],
        [
         "3",
         "6",
         "8",
         "4"
        ],
        [
         "1",
         "4",
         "9",
         "5"
        ]
       ],
       "shape": {
        "columns": 3,
        "rows": 3
       }
      },
      "text/html": [
       "<div>\n",
       "<style scoped>\n",
       "    .dataframe tbody tr th:only-of-type {\n",
       "        vertical-align: middle;\n",
       "    }\n",
       "\n",
       "    .dataframe tbody tr th {\n",
       "        vertical-align: top;\n",
       "    }\n",
       "\n",
       "    .dataframe thead th {\n",
       "        text-align: right;\n",
       "    }\n",
       "</style>\n",
       "<table border=\"1\" class=\"dataframe\">\n",
       "  <thead>\n",
       "    <tr style=\"text-align: right;\">\n",
       "      <th></th>\n",
       "      <th>A</th>\n",
       "      <th>B</th>\n",
       "      <th>C</th>\n",
       "    </tr>\n",
       "  </thead>\n",
       "  <tbody>\n",
       "    <tr>\n",
       "      <th>2</th>\n",
       "      <td>2</td>\n",
       "      <td>1</td>\n",
       "      <td>7</td>\n",
       "    </tr>\n",
       "    <tr>\n",
       "      <th>3</th>\n",
       "      <td>6</td>\n",
       "      <td>8</td>\n",
       "      <td>4</td>\n",
       "    </tr>\n",
       "    <tr>\n",
       "      <th>1</th>\n",
       "      <td>4</td>\n",
       "      <td>9</td>\n",
       "      <td>5</td>\n",
       "    </tr>\n",
       "  </tbody>\n",
       "</table>\n",
       "</div>"
      ],
      "text/plain": [
       "   A  B  C\n",
       "2  2  1  7\n",
       "3  6  8  4\n",
       "1  4  9  5"
      ]
     },
     "execution_count": 83,
     "metadata": {},
     "output_type": "execute_result"
    }
   ],
   "source": [
    "df"
   ]
  },
  {
   "cell_type": "code",
   "execution_count": 84,
   "metadata": {},
   "outputs": [
    {
     "data": {
      "application/vnd.microsoft.datawrangler.viewer.v0+json": {
       "columns": [
        {
         "name": "index",
         "rawType": "object",
         "type": "string"
        },
        {
         "name": "col_1",
         "rawType": "int64",
         "type": "integer"
        },
        {
         "name": "col_2",
         "rawType": "int64",
         "type": "integer"
        },
        {
         "name": "col_3",
         "rawType": "int64",
         "type": "integer"
        }
       ],
       "ref": "695c8339-828b-4d0e-b0e7-52b11dff2f23",
       "rows": [
        [
         "fil_2",
         "2",
         "1",
         "7"
        ],
        [
         "fil_0",
         "6",
         "8",
         "4"
        ],
        [
         "fil_1",
         "4",
         "9",
         "5"
        ]
       ],
       "shape": {
        "columns": 3,
        "rows": 3
       }
      },
      "text/html": [
       "<div>\n",
       "<style scoped>\n",
       "    .dataframe tbody tr th:only-of-type {\n",
       "        vertical-align: middle;\n",
       "    }\n",
       "\n",
       "    .dataframe tbody tr th {\n",
       "        vertical-align: top;\n",
       "    }\n",
       "\n",
       "    .dataframe thead th {\n",
       "        text-align: right;\n",
       "    }\n",
       "</style>\n",
       "<table border=\"1\" class=\"dataframe\">\n",
       "  <thead>\n",
       "    <tr style=\"text-align: right;\">\n",
       "      <th></th>\n",
       "      <th>col_1</th>\n",
       "      <th>col_2</th>\n",
       "      <th>col_3</th>\n",
       "    </tr>\n",
       "  </thead>\n",
       "  <tbody>\n",
       "    <tr>\n",
       "      <th>fil_2</th>\n",
       "      <td>2</td>\n",
       "      <td>1</td>\n",
       "      <td>7</td>\n",
       "    </tr>\n",
       "    <tr>\n",
       "      <th>fil_0</th>\n",
       "      <td>6</td>\n",
       "      <td>8</td>\n",
       "      <td>4</td>\n",
       "    </tr>\n",
       "    <tr>\n",
       "      <th>fil_1</th>\n",
       "      <td>4</td>\n",
       "      <td>9</td>\n",
       "      <td>5</td>\n",
       "    </tr>\n",
       "  </tbody>\n",
       "</table>\n",
       "</div>"
      ],
      "text/plain": [
       "       col_1  col_2  col_3\n",
       "fil_2      2      1      7\n",
       "fil_0      6      8      4\n",
       "fil_1      4      9      5"
      ]
     },
     "execution_count": 84,
     "metadata": {},
     "output_type": "execute_result"
    }
   ],
   "source": [
    "df.rename(columns={\"A\": \"col_1\", \"B\": \"col_2\", \"C\": \"col_3\"}, index={1: \"fil_1\", 2: \"fil_2\", 3: \"fil_0\"})"
   ]
  },
  {
   "cell_type": "markdown",
   "metadata": {},
   "source": [
    "#### Drop\n",
    "\n",
    "Podemos usar *drop()* para eliminar columnas y filas del DataFrame:"
   ]
  },
  {
   "cell_type": "code",
   "execution_count": 85,
   "metadata": {},
   "outputs": [
    {
     "data": {
      "application/vnd.microsoft.datawrangler.viewer.v0+json": {
       "columns": [
        {
         "name": "index",
         "rawType": "int64",
         "type": "integer"
        },
        {
         "name": "A",
         "rawType": "int64",
         "type": "integer"
        },
        {
         "name": "B",
         "rawType": "int64",
         "type": "integer"
        },
        {
         "name": "C",
         "rawType": "int64",
         "type": "integer"
        }
       ],
       "ref": "33735062-c7fa-4c9f-9218-36abdb5f6d32",
       "rows": [
        [
         "2",
         "2",
         "1",
         "7"
        ],
        [
         "3",
         "6",
         "8",
         "4"
        ],
        [
         "1",
         "4",
         "9",
         "5"
        ]
       ],
       "shape": {
        "columns": 3,
        "rows": 3
       }
      },
      "text/html": [
       "<div>\n",
       "<style scoped>\n",
       "    .dataframe tbody tr th:only-of-type {\n",
       "        vertical-align: middle;\n",
       "    }\n",
       "\n",
       "    .dataframe tbody tr th {\n",
       "        vertical-align: top;\n",
       "    }\n",
       "\n",
       "    .dataframe thead th {\n",
       "        text-align: right;\n",
       "    }\n",
       "</style>\n",
       "<table border=\"1\" class=\"dataframe\">\n",
       "  <thead>\n",
       "    <tr style=\"text-align: right;\">\n",
       "      <th></th>\n",
       "      <th>A</th>\n",
       "      <th>B</th>\n",
       "      <th>C</th>\n",
       "    </tr>\n",
       "  </thead>\n",
       "  <tbody>\n",
       "    <tr>\n",
       "      <th>2</th>\n",
       "      <td>2</td>\n",
       "      <td>1</td>\n",
       "      <td>7</td>\n",
       "    </tr>\n",
       "    <tr>\n",
       "      <th>3</th>\n",
       "      <td>6</td>\n",
       "      <td>8</td>\n",
       "      <td>4</td>\n",
       "    </tr>\n",
       "    <tr>\n",
       "      <th>1</th>\n",
       "      <td>4</td>\n",
       "      <td>9</td>\n",
       "      <td>5</td>\n",
       "    </tr>\n",
       "  </tbody>\n",
       "</table>\n",
       "</div>"
      ],
      "text/plain": [
       "   A  B  C\n",
       "2  2  1  7\n",
       "3  6  8  4\n",
       "1  4  9  5"
      ]
     },
     "execution_count": 85,
     "metadata": {},
     "output_type": "execute_result"
    }
   ],
   "source": [
    "df"
   ]
  },
  {
   "cell_type": "code",
   "execution_count": 86,
   "metadata": {},
   "outputs": [
    {
     "data": {
      "application/vnd.microsoft.datawrangler.viewer.v0+json": {
       "columns": [
        {
         "name": "index",
         "rawType": "int64",
         "type": "integer"
        },
        {
         "name": "A",
         "rawType": "int64",
         "type": "integer"
        },
        {
         "name": "C",
         "rawType": "int64",
         "type": "integer"
        }
       ],
       "ref": "d8cf42e9-7b0f-4958-8aa5-baad0014e069",
       "rows": [
        [
         "3",
         "6",
         "4"
        ],
        [
         "1",
         "4",
         "5"
        ]
       ],
       "shape": {
        "columns": 2,
        "rows": 2
       }
      },
      "text/html": [
       "<div>\n",
       "<style scoped>\n",
       "    .dataframe tbody tr th:only-of-type {\n",
       "        vertical-align: middle;\n",
       "    }\n",
       "\n",
       "    .dataframe tbody tr th {\n",
       "        vertical-align: top;\n",
       "    }\n",
       "\n",
       "    .dataframe thead th {\n",
       "        text-align: right;\n",
       "    }\n",
       "</style>\n",
       "<table border=\"1\" class=\"dataframe\">\n",
       "  <thead>\n",
       "    <tr style=\"text-align: right;\">\n",
       "      <th></th>\n",
       "      <th>A</th>\n",
       "      <th>C</th>\n",
       "    </tr>\n",
       "  </thead>\n",
       "  <tbody>\n",
       "    <tr>\n",
       "      <th>3</th>\n",
       "      <td>6</td>\n",
       "      <td>4</td>\n",
       "    </tr>\n",
       "    <tr>\n",
       "      <th>1</th>\n",
       "      <td>4</td>\n",
       "      <td>5</td>\n",
       "    </tr>\n",
       "  </tbody>\n",
       "</table>\n",
       "</div>"
      ],
      "text/plain": [
       "   A  C\n",
       "3  6  4\n",
       "1  4  5"
      ]
     },
     "execution_count": 86,
     "metadata": {},
     "output_type": "execute_result"
    }
   ],
   "source": [
    "df.drop(columns={\"B\"}, index={2})"
   ]
  },
  {
   "cell_type": "markdown",
   "metadata": {},
   "source": [
    "En ocasiones, luego de borrar una fila de un DataFrame, quizás deseemos resetear los índices de tal manera que cada fila se nombre con un número,\n",
    "iniciando desde cero. Esto se debe a que, al querer borrar una fila en el medio de un DataFrame, los índices se vuelven discontinuos. Podemos solucionar\n",
    "este problema llamando a la función *reset_index()*:"
   ]
  },
  {
   "cell_type": "code",
   "execution_count": 87,
   "metadata": {},
   "outputs": [
    {
     "data": {
      "application/vnd.microsoft.datawrangler.viewer.v0+json": {
       "columns": [
        {
         "name": "index",
         "rawType": "int64",
         "type": "integer"
        },
        {
         "name": "A",
         "rawType": "int64",
         "type": "integer"
        },
        {
         "name": "B",
         "rawType": "int64",
         "type": "integer"
        },
        {
         "name": "C",
         "rawType": "int64",
         "type": "integer"
        }
       ],
       "ref": "836ed6bf-30ef-453f-8228-3b29f7805f8c",
       "rows": [
        [
         "0",
         "2",
         "3",
         "3"
        ],
        [
         "1",
         "1",
         "5",
         "6"
        ],
        [
         "2",
         "5",
         "6",
         "8"
        ]
       ],
       "shape": {
        "columns": 3,
        "rows": 3
       }
      },
      "text/html": [
       "<div>\n",
       "<style scoped>\n",
       "    .dataframe tbody tr th:only-of-type {\n",
       "        vertical-align: middle;\n",
       "    }\n",
       "\n",
       "    .dataframe tbody tr th {\n",
       "        vertical-align: top;\n",
       "    }\n",
       "\n",
       "    .dataframe thead th {\n",
       "        text-align: right;\n",
       "    }\n",
       "</style>\n",
       "<table border=\"1\" class=\"dataframe\">\n",
       "  <thead>\n",
       "    <tr style=\"text-align: right;\">\n",
       "      <th></th>\n",
       "      <th>A</th>\n",
       "      <th>B</th>\n",
       "      <th>C</th>\n",
       "    </tr>\n",
       "  </thead>\n",
       "  <tbody>\n",
       "    <tr>\n",
       "      <th>0</th>\n",
       "      <td>2</td>\n",
       "      <td>3</td>\n",
       "      <td>3</td>\n",
       "    </tr>\n",
       "    <tr>\n",
       "      <th>1</th>\n",
       "      <td>1</td>\n",
       "      <td>5</td>\n",
       "      <td>6</td>\n",
       "    </tr>\n",
       "    <tr>\n",
       "      <th>2</th>\n",
       "      <td>5</td>\n",
       "      <td>6</td>\n",
       "      <td>8</td>\n",
       "    </tr>\n",
       "  </tbody>\n",
       "</table>\n",
       "</div>"
      ],
      "text/plain": [
       "   A  B  C\n",
       "0  2  3  3\n",
       "1  1  5  6\n",
       "2  5  6  8"
      ]
     },
     "execution_count": 87,
     "metadata": {},
     "output_type": "execute_result"
    }
   ],
   "source": [
    "df = pd.DataFrame({\"A\": [2, 1, 5], \"B\": [3, 5, 6], \"C\": [3, 6, 8]})\n",
    "df"
   ]
  },
  {
   "cell_type": "code",
   "execution_count": 88,
   "metadata": {},
   "outputs": [
    {
     "data": {
      "application/vnd.microsoft.datawrangler.viewer.v0+json": {
       "columns": [
        {
         "name": "index",
         "rawType": "int64",
         "type": "integer"
        },
        {
         "name": "A",
         "rawType": "int64",
         "type": "integer"
        },
        {
         "name": "B",
         "rawType": "int64",
         "type": "integer"
        },
        {
         "name": "C",
         "rawType": "int64",
         "type": "integer"
        }
       ],
       "ref": "a860cf49-98ca-4115-9c27-a3f547c64905",
       "rows": [
        [
         "0",
         "2",
         "3",
         "3"
        ],
        [
         "2",
         "5",
         "6",
         "8"
        ]
       ],
       "shape": {
        "columns": 3,
        "rows": 2
       }
      },
      "text/html": [
       "<div>\n",
       "<style scoped>\n",
       "    .dataframe tbody tr th:only-of-type {\n",
       "        vertical-align: middle;\n",
       "    }\n",
       "\n",
       "    .dataframe tbody tr th {\n",
       "        vertical-align: top;\n",
       "    }\n",
       "\n",
       "    .dataframe thead th {\n",
       "        text-align: right;\n",
       "    }\n",
       "</style>\n",
       "<table border=\"1\" class=\"dataframe\">\n",
       "  <thead>\n",
       "    <tr style=\"text-align: right;\">\n",
       "      <th></th>\n",
       "      <th>A</th>\n",
       "      <th>B</th>\n",
       "      <th>C</th>\n",
       "    </tr>\n",
       "  </thead>\n",
       "  <tbody>\n",
       "    <tr>\n",
       "      <th>0</th>\n",
       "      <td>2</td>\n",
       "      <td>3</td>\n",
       "      <td>3</td>\n",
       "    </tr>\n",
       "    <tr>\n",
       "      <th>2</th>\n",
       "      <td>5</td>\n",
       "      <td>6</td>\n",
       "      <td>8</td>\n",
       "    </tr>\n",
       "  </tbody>\n",
       "</table>\n",
       "</div>"
      ],
      "text/plain": [
       "   A  B  C\n",
       "0  2  3  3\n",
       "2  5  6  8"
      ]
     },
     "execution_count": 88,
     "metadata": {},
     "output_type": "execute_result"
    }
   ],
   "source": [
    "# Eliminamos la fila de índice 1\n",
    "df = df.drop(1)\n",
    "df"
   ]
  },
  {
   "cell_type": "code",
   "execution_count": 89,
   "metadata": {},
   "outputs": [
    {
     "data": {
      "application/vnd.microsoft.datawrangler.viewer.v0+json": {
       "columns": [
        {
         "name": "index",
         "rawType": "int64",
         "type": "integer"
        },
        {
         "name": "A",
         "rawType": "int64",
         "type": "integer"
        },
        {
         "name": "B",
         "rawType": "int64",
         "type": "integer"
        },
        {
         "name": "C",
         "rawType": "int64",
         "type": "integer"
        }
       ],
       "ref": "63cd6c95-662d-4521-a6e9-c1722b882873",
       "rows": [
        [
         "0",
         "2",
         "3",
         "3"
        ],
        [
         "1",
         "5",
         "6",
         "8"
        ]
       ],
       "shape": {
        "columns": 3,
        "rows": 2
       }
      },
      "text/html": [
       "<div>\n",
       "<style scoped>\n",
       "    .dataframe tbody tr th:only-of-type {\n",
       "        vertical-align: middle;\n",
       "    }\n",
       "\n",
       "    .dataframe tbody tr th {\n",
       "        vertical-align: top;\n",
       "    }\n",
       "\n",
       "    .dataframe thead th {\n",
       "        text-align: right;\n",
       "    }\n",
       "</style>\n",
       "<table border=\"1\" class=\"dataframe\">\n",
       "  <thead>\n",
       "    <tr style=\"text-align: right;\">\n",
       "      <th></th>\n",
       "      <th>A</th>\n",
       "      <th>B</th>\n",
       "      <th>C</th>\n",
       "    </tr>\n",
       "  </thead>\n",
       "  <tbody>\n",
       "    <tr>\n",
       "      <th>0</th>\n",
       "      <td>2</td>\n",
       "      <td>3</td>\n",
       "      <td>3</td>\n",
       "    </tr>\n",
       "    <tr>\n",
       "      <th>1</th>\n",
       "      <td>5</td>\n",
       "      <td>6</td>\n",
       "      <td>8</td>\n",
       "    </tr>\n",
       "  </tbody>\n",
       "</table>\n",
       "</div>"
      ],
      "text/plain": [
       "   A  B  C\n",
       "0  2  3  3\n",
       "1  5  6  8"
      ]
     },
     "execution_count": 89,
     "metadata": {},
     "output_type": "execute_result"
    }
   ],
   "source": [
    "# Reseteamos los índices\n",
    "df = df.reset_index(drop=True)\n",
    "df"
   ]
  },
  {
   "cell_type": "markdown",
   "metadata": {},
   "source": [
    "#### Concatenar\n",
    "\n",
    "Si contamos con dos DataFrames que deseamos concatenar, podemos utilizar *concat*:"
   ]
  },
  {
   "cell_type": "code",
   "execution_count": 90,
   "metadata": {},
   "outputs": [
    {
     "data": {
      "application/vnd.microsoft.datawrangler.viewer.v0+json": {
       "columns": [
        {
         "name": "index",
         "rawType": "object",
         "type": "string"
        },
        {
         "name": "A",
         "rawType": "int64",
         "type": "integer"
        },
        {
         "name": "B",
         "rawType": "int64",
         "type": "integer"
        }
       ],
       "ref": "7e228f9c-f2a9-4b5b-903c-43957dd4598e",
       "rows": [
        [
         "fila 1",
         "4",
         "9"
        ],
        [
         "fila 2",
         "2",
         "1"
        ]
       ],
       "shape": {
        "columns": 2,
        "rows": 2
       }
      },
      "text/html": [
       "<div>\n",
       "<style scoped>\n",
       "    .dataframe tbody tr th:only-of-type {\n",
       "        vertical-align: middle;\n",
       "    }\n",
       "\n",
       "    .dataframe tbody tr th {\n",
       "        vertical-align: top;\n",
       "    }\n",
       "\n",
       "    .dataframe thead th {\n",
       "        text-align: right;\n",
       "    }\n",
       "</style>\n",
       "<table border=\"1\" class=\"dataframe\">\n",
       "  <thead>\n",
       "    <tr style=\"text-align: right;\">\n",
       "      <th></th>\n",
       "      <th>A</th>\n",
       "      <th>B</th>\n",
       "    </tr>\n",
       "  </thead>\n",
       "  <tbody>\n",
       "    <tr>\n",
       "      <th>fila 1</th>\n",
       "      <td>4</td>\n",
       "      <td>9</td>\n",
       "    </tr>\n",
       "    <tr>\n",
       "      <th>fila 2</th>\n",
       "      <td>2</td>\n",
       "      <td>1</td>\n",
       "    </tr>\n",
       "  </tbody>\n",
       "</table>\n",
       "</div>"
      ],
      "text/plain": [
       "        A  B\n",
       "fila 1  4  9\n",
       "fila 2  2  1"
      ]
     },
     "execution_count": 90,
     "metadata": {},
     "output_type": "execute_result"
    }
   ],
   "source": [
    "df1 = pd.DataFrame({\"A\": [4, 2], \"B\": [9, 1]}, index=[\"fila 1\", \"fila 2\"])\n",
    "df1"
   ]
  },
  {
   "cell_type": "code",
   "execution_count": 91,
   "metadata": {},
   "outputs": [
    {
     "data": {
      "application/vnd.microsoft.datawrangler.viewer.v0+json": {
       "columns": [
        {
         "name": "index",
         "rawType": "object",
         "type": "string"
        },
        {
         "name": "A",
         "rawType": "int64",
         "type": "integer"
        },
        {
         "name": "B",
         "rawType": "int64",
         "type": "integer"
        }
       ],
       "ref": "d98c4dc5-2cb1-43ab-8598-0daa408bbcb8",
       "rows": [
        [
         "fila 3",
         "5",
         "7"
        ],
        [
         "fila 4",
         "3",
         "9"
        ]
       ],
       "shape": {
        "columns": 2,
        "rows": 2
       }
      },
      "text/html": [
       "<div>\n",
       "<style scoped>\n",
       "    .dataframe tbody tr th:only-of-type {\n",
       "        vertical-align: middle;\n",
       "    }\n",
       "\n",
       "    .dataframe tbody tr th {\n",
       "        vertical-align: top;\n",
       "    }\n",
       "\n",
       "    .dataframe thead th {\n",
       "        text-align: right;\n",
       "    }\n",
       "</style>\n",
       "<table border=\"1\" class=\"dataframe\">\n",
       "  <thead>\n",
       "    <tr style=\"text-align: right;\">\n",
       "      <th></th>\n",
       "      <th>A</th>\n",
       "      <th>B</th>\n",
       "    </tr>\n",
       "  </thead>\n",
       "  <tbody>\n",
       "    <tr>\n",
       "      <th>fila 3</th>\n",
       "      <td>5</td>\n",
       "      <td>7</td>\n",
       "    </tr>\n",
       "    <tr>\n",
       "      <th>fila 4</th>\n",
       "      <td>3</td>\n",
       "      <td>9</td>\n",
       "    </tr>\n",
       "  </tbody>\n",
       "</table>\n",
       "</div>"
      ],
      "text/plain": [
       "        A  B\n",
       "fila 3  5  7\n",
       "fila 4  3  9"
      ]
     },
     "execution_count": 91,
     "metadata": {},
     "output_type": "execute_result"
    }
   ],
   "source": [
    "df2 = pd.DataFrame({\"A\": [5, 3], \"B\": [7, 9]}, index=[\"fila 3\", \"fila 4\"])\n",
    "df2"
   ]
  },
  {
   "cell_type": "code",
   "execution_count": 92,
   "metadata": {},
   "outputs": [
    {
     "data": {
      "application/vnd.microsoft.datawrangler.viewer.v0+json": {
       "columns": [
        {
         "name": "index",
         "rawType": "object",
         "type": "string"
        },
        {
         "name": "A",
         "rawType": "int64",
         "type": "integer"
        },
        {
         "name": "B",
         "rawType": "int64",
         "type": "integer"
        }
       ],
       "ref": "94652197-e6df-41ca-9e20-6b5f84d024c3",
       "rows": [
        [
         "fila 1",
         "4",
         "9"
        ],
        [
         "fila 2",
         "2",
         "1"
        ],
        [
         "fila 3",
         "5",
         "7"
        ],
        [
         "fila 4",
         "3",
         "9"
        ]
       ],
       "shape": {
        "columns": 2,
        "rows": 4
       }
      },
      "text/html": [
       "<div>\n",
       "<style scoped>\n",
       "    .dataframe tbody tr th:only-of-type {\n",
       "        vertical-align: middle;\n",
       "    }\n",
       "\n",
       "    .dataframe tbody tr th {\n",
       "        vertical-align: top;\n",
       "    }\n",
       "\n",
       "    .dataframe thead th {\n",
       "        text-align: right;\n",
       "    }\n",
       "</style>\n",
       "<table border=\"1\" class=\"dataframe\">\n",
       "  <thead>\n",
       "    <tr style=\"text-align: right;\">\n",
       "      <th></th>\n",
       "      <th>A</th>\n",
       "      <th>B</th>\n",
       "    </tr>\n",
       "  </thead>\n",
       "  <tbody>\n",
       "    <tr>\n",
       "      <th>fila 1</th>\n",
       "      <td>4</td>\n",
       "      <td>9</td>\n",
       "    </tr>\n",
       "    <tr>\n",
       "      <th>fila 2</th>\n",
       "      <td>2</td>\n",
       "      <td>1</td>\n",
       "    </tr>\n",
       "    <tr>\n",
       "      <th>fila 3</th>\n",
       "      <td>5</td>\n",
       "      <td>7</td>\n",
       "    </tr>\n",
       "    <tr>\n",
       "      <th>fila 4</th>\n",
       "      <td>3</td>\n",
       "      <td>9</td>\n",
       "    </tr>\n",
       "  </tbody>\n",
       "</table>\n",
       "</div>"
      ],
      "text/plain": [
       "        A  B\n",
       "fila 1  4  9\n",
       "fila 2  2  1\n",
       "fila 3  5  7\n",
       "fila 4  3  9"
      ]
     },
     "execution_count": 92,
     "metadata": {},
     "output_type": "execute_result"
    }
   ],
   "source": [
    "res = pd.concat([df1, df2])\n",
    "res"
   ]
  },
  {
   "cell_type": "markdown",
   "metadata": {},
   "source": [
    "Por defecto, *concat* concatena DataFrames a lo largo del **eje 0**, es decir, la primera dimensión del DataFrame. Lo que produce un apilamiento vertical.\n",
    "Nota que los DataFrames del ejemplo anterior tienen la misma cantidad de columnas. Si tratas de concatenar DataFrames con diferente número de elementos\n",
    "en la dimensión objetivo se producirá un error.\n",
    "\n",
    "Para concatenar horizontalmente solo debemos agregar el argumento *axis=1* en la llamada a la función *concat*. En este caso los DataFrames deben tener el mismo número de filas:"
   ]
  },
  {
   "cell_type": "code",
   "execution_count": 93,
   "metadata": {},
   "outputs": [
    {
     "data": {
      "application/vnd.microsoft.datawrangler.viewer.v0+json": {
       "columns": [
        {
         "name": "index",
         "rawType": "object",
         "type": "string"
        },
        {
         "name": "C",
         "rawType": "int64",
         "type": "integer"
        },
        {
         "name": "D",
         "rawType": "int64",
         "type": "integer"
        }
       ],
       "ref": "48036c61-5667-4ecd-9606-da840036db33",
       "rows": [
        [
         "fila 1",
         "5",
         "7"
        ],
        [
         "fila 2",
         "3",
         "9"
        ]
       ],
       "shape": {
        "columns": 2,
        "rows": 2
       }
      },
      "text/html": [
       "<div>\n",
       "<style scoped>\n",
       "    .dataframe tbody tr th:only-of-type {\n",
       "        vertical-align: middle;\n",
       "    }\n",
       "\n",
       "    .dataframe tbody tr th {\n",
       "        vertical-align: top;\n",
       "    }\n",
       "\n",
       "    .dataframe thead th {\n",
       "        text-align: right;\n",
       "    }\n",
       "</style>\n",
       "<table border=\"1\" class=\"dataframe\">\n",
       "  <thead>\n",
       "    <tr style=\"text-align: right;\">\n",
       "      <th></th>\n",
       "      <th>C</th>\n",
       "      <th>D</th>\n",
       "    </tr>\n",
       "  </thead>\n",
       "  <tbody>\n",
       "    <tr>\n",
       "      <th>fila 1</th>\n",
       "      <td>5</td>\n",
       "      <td>7</td>\n",
       "    </tr>\n",
       "    <tr>\n",
       "      <th>fila 2</th>\n",
       "      <td>3</td>\n",
       "      <td>9</td>\n",
       "    </tr>\n",
       "  </tbody>\n",
       "</table>\n",
       "</div>"
      ],
      "text/plain": [
       "        C  D\n",
       "fila 1  5  7\n",
       "fila 2  3  9"
      ]
     },
     "execution_count": 93,
     "metadata": {},
     "output_type": "execute_result"
    }
   ],
   "source": [
    "df2 = pd.DataFrame({\"C\": [5, 3], \"D\": [7, 9]}, index=[\"fila 1\", \"fila 2\"])\n",
    "df2"
   ]
  },
  {
   "cell_type": "code",
   "execution_count": 94,
   "metadata": {},
   "outputs": [
    {
     "data": {
      "application/vnd.microsoft.datawrangler.viewer.v0+json": {
       "columns": [
        {
         "name": "index",
         "rawType": "object",
         "type": "string"
        },
        {
         "name": "A",
         "rawType": "int64",
         "type": "integer"
        },
        {
         "name": "B",
         "rawType": "int64",
         "type": "integer"
        },
        {
         "name": "C",
         "rawType": "int64",
         "type": "integer"
        },
        {
         "name": "D",
         "rawType": "int64",
         "type": "integer"
        }
       ],
       "ref": "f65e3e76-75db-4dea-938a-3a2982053c2d",
       "rows": [
        [
         "fila 1",
         "4",
         "9",
         "5",
         "7"
        ],
        [
         "fila 2",
         "2",
         "1",
         "3",
         "9"
        ]
       ],
       "shape": {
        "columns": 4,
        "rows": 2
       }
      },
      "text/html": [
       "<div>\n",
       "<style scoped>\n",
       "    .dataframe tbody tr th:only-of-type {\n",
       "        vertical-align: middle;\n",
       "    }\n",
       "\n",
       "    .dataframe tbody tr th {\n",
       "        vertical-align: top;\n",
       "    }\n",
       "\n",
       "    .dataframe thead th {\n",
       "        text-align: right;\n",
       "    }\n",
       "</style>\n",
       "<table border=\"1\" class=\"dataframe\">\n",
       "  <thead>\n",
       "    <tr style=\"text-align: right;\">\n",
       "      <th></th>\n",
       "      <th>A</th>\n",
       "      <th>B</th>\n",
       "      <th>C</th>\n",
       "      <th>D</th>\n",
       "    </tr>\n",
       "  </thead>\n",
       "  <tbody>\n",
       "    <tr>\n",
       "      <th>fila 1</th>\n",
       "      <td>4</td>\n",
       "      <td>9</td>\n",
       "      <td>5</td>\n",
       "      <td>7</td>\n",
       "    </tr>\n",
       "    <tr>\n",
       "      <th>fila 2</th>\n",
       "      <td>2</td>\n",
       "      <td>1</td>\n",
       "      <td>3</td>\n",
       "      <td>9</td>\n",
       "    </tr>\n",
       "  </tbody>\n",
       "</table>\n",
       "</div>"
      ],
      "text/plain": [
       "        A  B  C  D\n",
       "fila 1  4  9  5  7\n",
       "fila 2  2  1  3  9"
      ]
     },
     "execution_count": 94,
     "metadata": {},
     "output_type": "execute_result"
    }
   ],
   "source": [
    "res = pd.concat([df1, df2], axis=1)\n",
    "res"
   ]
  },
  {
   "cell_type": "code",
   "execution_count": 95,
   "metadata": {},
   "outputs": [
    {
     "name": "stdout",
     "output_type": "stream",
     "text": [
      "[[4 9 5 7]\n",
      " [2 1 3 9]]\n"
     ]
    }
   ],
   "source": [
    "array_res = res.values\n",
    "print(array_res)"
   ]
  },
  {
   "cell_type": "markdown",
   "metadata": {},
   "source": [
    "Nota que en el ejemplo anterior hemos creado los DataFrame de tal manera que los nombres de las columnas no resulten duplicados, mientras que los nombres de\n",
    "las filas si se repiten, Esto ha de tomarse en cuenta con se han asignado encabezados personalizados a las columnas y filas. Pero si has utilizado los\n",
    "valores por defecto en la creación del DataFrame, no habrá problema.\n",
    "\n",
    "### Extracción de datos desde el DataFrame\n",
    "\n",
    "Una operación común que llevamos a cabo sobre los DataFrames es el seccionado o **slicing**, algo que ya hemos aprendido a hacer antes tanto con listas de\n",
    "Python como con arrays de NumPy. El concepto es el mismo para el caso de los DataFrames, solo que la sintaixs cambia levemente. Vamos a crear un DataFrame\n",
    "con datos aleatorios y probemos algunas de las funcionalidades de Pandas ofrece para esta tarea:"
   ]
  },
  {
   "cell_type": "code",
   "execution_count": 96,
   "metadata": {},
   "outputs": [
    {
     "data": {
      "application/vnd.microsoft.datawrangler.viewer.v0+json": {
       "columns": [
        {
         "name": "index",
         "rawType": "object",
         "type": "string"
        },
        {
         "name": "Fx",
         "rawType": "int32",
         "type": "integer"
        },
        {
         "name": "Fy",
         "rawType": "int32",
         "type": "integer"
        },
        {
         "name": "Mx",
         "rawType": "int32",
         "type": "integer"
        },
        {
         "name": "My",
         "rawType": "int32",
         "type": "integer"
        },
        {
         "name": "V",
         "rawType": "int32",
         "type": "integer"
        }
       ],
       "ref": "cca9cf91-4436-4a3a-aad2-111781482adf",
       "rows": [
        [
         "Piso 1",
         "3",
         "5",
         "0",
         "8",
         "2"
        ],
        [
         "Piso 2",
         "2",
         "0",
         "5",
         "0",
         "7"
        ],
        [
         "Piso 3",
         "4",
         "7",
         "2",
         "7",
         "5"
        ]
       ],
       "shape": {
        "columns": 5,
        "rows": 3
       }
      },
      "text/html": [
       "<div>\n",
       "<style scoped>\n",
       "    .dataframe tbody tr th:only-of-type {\n",
       "        vertical-align: middle;\n",
       "    }\n",
       "\n",
       "    .dataframe tbody tr th {\n",
       "        vertical-align: top;\n",
       "    }\n",
       "\n",
       "    .dataframe thead th {\n",
       "        text-align: right;\n",
       "    }\n",
       "</style>\n",
       "<table border=\"1\" class=\"dataframe\">\n",
       "  <thead>\n",
       "    <tr style=\"text-align: right;\">\n",
       "      <th></th>\n",
       "      <th>Fx</th>\n",
       "      <th>Fy</th>\n",
       "      <th>Mx</th>\n",
       "      <th>My</th>\n",
       "      <th>V</th>\n",
       "    </tr>\n",
       "  </thead>\n",
       "  <tbody>\n",
       "    <tr>\n",
       "      <th>Piso 1</th>\n",
       "      <td>3</td>\n",
       "      <td>5</td>\n",
       "      <td>0</td>\n",
       "      <td>8</td>\n",
       "      <td>2</td>\n",
       "    </tr>\n",
       "    <tr>\n",
       "      <th>Piso 2</th>\n",
       "      <td>2</td>\n",
       "      <td>0</td>\n",
       "      <td>5</td>\n",
       "      <td>0</td>\n",
       "      <td>7</td>\n",
       "    </tr>\n",
       "    <tr>\n",
       "      <th>Piso 3</th>\n",
       "      <td>4</td>\n",
       "      <td>7</td>\n",
       "      <td>2</td>\n",
       "      <td>7</td>\n",
       "      <td>5</td>\n",
       "    </tr>\n",
       "  </tbody>\n",
       "</table>\n",
       "</div>"
      ],
      "text/plain": [
       "        Fx  Fy  Mx  My  V\n",
       "Piso 1   3   5   0   8  2\n",
       "Piso 2   2   0   5   0  7\n",
       "Piso 3   4   7   2   7  5"
      ]
     },
     "execution_count": 96,
     "metadata": {},
     "output_type": "execute_result"
    }
   ],
   "source": [
    "df = pd.DataFrame(np.random.randint(0, 10, (3, 5)),\n",
    "                  columns=[\"Fx\", \"Fy\", \"Mx\", \"My\", \"V\"],\n",
    "                  index = [\"Piso 1\", \"Piso 2\", \"Piso 3\"])\n",
    "df"
   ]
  },
  {
   "cell_type": "markdown",
   "metadata": {},
   "source": [
    "Ahora veamos como seleccionar columnas en específico:"
   ]
  },
  {
   "cell_type": "code",
   "execution_count": 97,
   "metadata": {},
   "outputs": [
    {
     "data": {
      "application/vnd.microsoft.datawrangler.viewer.v0+json": {
       "columns": [
        {
         "name": "index",
         "rawType": "object",
         "type": "string"
        },
        {
         "name": "Fx",
         "rawType": "int32",
         "type": "integer"
        },
        {
         "name": "My",
         "rawType": "int32",
         "type": "integer"
        }
       ],
       "ref": "be692627-ec88-49c8-acf1-d1afc3cac17c",
       "rows": [
        [
         "Piso 1",
         "3",
         "8"
        ],
        [
         "Piso 2",
         "2",
         "0"
        ],
        [
         "Piso 3",
         "4",
         "7"
        ]
       ],
       "shape": {
        "columns": 2,
        "rows": 3
       }
      },
      "text/html": [
       "<div>\n",
       "<style scoped>\n",
       "    .dataframe tbody tr th:only-of-type {\n",
       "        vertical-align: middle;\n",
       "    }\n",
       "\n",
       "    .dataframe tbody tr th {\n",
       "        vertical-align: top;\n",
       "    }\n",
       "\n",
       "    .dataframe thead th {\n",
       "        text-align: right;\n",
       "    }\n",
       "</style>\n",
       "<table border=\"1\" class=\"dataframe\">\n",
       "  <thead>\n",
       "    <tr style=\"text-align: right;\">\n",
       "      <th></th>\n",
       "      <th>Fx</th>\n",
       "      <th>My</th>\n",
       "    </tr>\n",
       "  </thead>\n",
       "  <tbody>\n",
       "    <tr>\n",
       "      <th>Piso 1</th>\n",
       "      <td>3</td>\n",
       "      <td>8</td>\n",
       "    </tr>\n",
       "    <tr>\n",
       "      <th>Piso 2</th>\n",
       "      <td>2</td>\n",
       "      <td>0</td>\n",
       "    </tr>\n",
       "    <tr>\n",
       "      <th>Piso 3</th>\n",
       "      <td>4</td>\n",
       "      <td>7</td>\n",
       "    </tr>\n",
       "  </tbody>\n",
       "</table>\n",
       "</div>"
      ],
      "text/plain": [
       "        Fx  My\n",
       "Piso 1   3   8\n",
       "Piso 2   2   0\n",
       "Piso 3   4   7"
      ]
     },
     "metadata": {},
     "output_type": "display_data"
    }
   ],
   "source": [
    "display(df[[\"Fx\", \"My\"]])"
   ]
  },
  {
   "cell_type": "markdown",
   "metadata": {},
   "source": [
    "#### Métodos *loc* y *iloc*\n",
    "\n",
    "Estos dos métodos son utilizados para generar secciones tanto en filas como en columnas. La sintaxis es similar a la seguida en NumPy:"
   ]
  },
  {
   "cell_type": "code",
   "execution_count": 98,
   "metadata": {},
   "outputs": [
    {
     "data": {
      "application/vnd.microsoft.datawrangler.viewer.v0+json": {
       "columns": [
        {
         "name": "index",
         "rawType": "object",
         "type": "string"
        },
        {
         "name": "My",
         "rawType": "int32",
         "type": "integer"
        },
        {
         "name": "V",
         "rawType": "int32",
         "type": "integer"
        }
       ],
       "ref": "2121c8f5-4e53-446e-9ad1-9e0a50ea865a",
       "rows": [
        [
         "Piso 1",
         "8",
         "2"
        ],
        [
         "Piso 2",
         "0",
         "7"
        ],
        [
         "Piso 3",
         "7",
         "5"
        ]
       ],
       "shape": {
        "columns": 2,
        "rows": 3
       }
      },
      "text/html": [
       "<div>\n",
       "<style scoped>\n",
       "    .dataframe tbody tr th:only-of-type {\n",
       "        vertical-align: middle;\n",
       "    }\n",
       "\n",
       "    .dataframe tbody tr th {\n",
       "        vertical-align: top;\n",
       "    }\n",
       "\n",
       "    .dataframe thead th {\n",
       "        text-align: right;\n",
       "    }\n",
       "</style>\n",
       "<table border=\"1\" class=\"dataframe\">\n",
       "  <thead>\n",
       "    <tr style=\"text-align: right;\">\n",
       "      <th></th>\n",
       "      <th>My</th>\n",
       "      <th>V</th>\n",
       "    </tr>\n",
       "  </thead>\n",
       "  <tbody>\n",
       "    <tr>\n",
       "      <th>Piso 1</th>\n",
       "      <td>8</td>\n",
       "      <td>2</td>\n",
       "    </tr>\n",
       "    <tr>\n",
       "      <th>Piso 2</th>\n",
       "      <td>0</td>\n",
       "      <td>7</td>\n",
       "    </tr>\n",
       "    <tr>\n",
       "      <th>Piso 3</th>\n",
       "      <td>7</td>\n",
       "      <td>5</td>\n",
       "    </tr>\n",
       "  </tbody>\n",
       "</table>\n",
       "</div>"
      ],
      "text/plain": [
       "        My  V\n",
       "Piso 1   8  2\n",
       "Piso 2   0  7\n",
       "Piso 3   7  5"
      ]
     },
     "metadata": {},
     "output_type": "display_data"
    }
   ],
   "source": [
    "display(df.loc[\"Piso 1\":\"Piso 3\", \"My\":\"V\"])"
   ]
  },
  {
   "cell_type": "code",
   "execution_count": 99,
   "metadata": {},
   "outputs": [
    {
     "data": {
      "text/plain": [
       "np.int32(0)"
      ]
     },
     "metadata": {},
     "output_type": "display_data"
    }
   ],
   "source": [
    "display(df.loc[\"Piso 1\", \"Mx\"])\n",
    "# mx = df.loc[\"Piso 1\", \"Mx\"]"
   ]
  },
  {
   "cell_type": "code",
   "execution_count": 100,
   "metadata": {},
   "outputs": [
    {
     "data": {
      "application/vnd.microsoft.datawrangler.viewer.v0+json": {
       "columns": [
        {
         "name": "index",
         "rawType": "object",
         "type": "string"
        },
        {
         "name": "Fx",
         "rawType": "int32",
         "type": "integer"
        },
        {
         "name": "Fy",
         "rawType": "int32",
         "type": "integer"
        },
        {
         "name": "Mx",
         "rawType": "int32",
         "type": "integer"
        },
        {
         "name": "My",
         "rawType": "int32",
         "type": "integer"
        },
        {
         "name": "V",
         "rawType": "int32",
         "type": "integer"
        }
       ],
       "ref": "09b9101c-2dfa-4b70-896f-15a26c4548f2",
       "rows": [
        [
         "Piso 1",
         "3",
         "5",
         "0",
         "8",
         "2"
        ],
        [
         "Piso 2",
         "2",
         "0",
         "5",
         "0",
         "7"
        ],
        [
         "Piso 3",
         "4",
         "7",
         "2",
         "7",
         "5"
        ]
       ],
       "shape": {
        "columns": 5,
        "rows": 3
       }
      },
      "text/html": [
       "<div>\n",
       "<style scoped>\n",
       "    .dataframe tbody tr th:only-of-type {\n",
       "        vertical-align: middle;\n",
       "    }\n",
       "\n",
       "    .dataframe tbody tr th {\n",
       "        vertical-align: top;\n",
       "    }\n",
       "\n",
       "    .dataframe thead th {\n",
       "        text-align: right;\n",
       "    }\n",
       "</style>\n",
       "<table border=\"1\" class=\"dataframe\">\n",
       "  <thead>\n",
       "    <tr style=\"text-align: right;\">\n",
       "      <th></th>\n",
       "      <th>Fx</th>\n",
       "      <th>Fy</th>\n",
       "      <th>Mx</th>\n",
       "      <th>My</th>\n",
       "      <th>V</th>\n",
       "    </tr>\n",
       "  </thead>\n",
       "  <tbody>\n",
       "    <tr>\n",
       "      <th>Piso 1</th>\n",
       "      <td>3</td>\n",
       "      <td>5</td>\n",
       "      <td>0</td>\n",
       "      <td>8</td>\n",
       "      <td>2</td>\n",
       "    </tr>\n",
       "    <tr>\n",
       "      <th>Piso 2</th>\n",
       "      <td>2</td>\n",
       "      <td>0</td>\n",
       "      <td>5</td>\n",
       "      <td>0</td>\n",
       "      <td>7</td>\n",
       "    </tr>\n",
       "    <tr>\n",
       "      <th>Piso 3</th>\n",
       "      <td>4</td>\n",
       "      <td>7</td>\n",
       "      <td>2</td>\n",
       "      <td>7</td>\n",
       "      <td>5</td>\n",
       "    </tr>\n",
       "  </tbody>\n",
       "</table>\n",
       "</div>"
      ],
      "text/plain": [
       "        Fx  Fy  Mx  My  V\n",
       "Piso 1   3   5   0   8  2\n",
       "Piso 2   2   0   5   0  7\n",
       "Piso 3   4   7   2   7  5"
      ]
     },
     "execution_count": 100,
     "metadata": {},
     "output_type": "execute_result"
    }
   ],
   "source": [
    "df"
   ]
  },
  {
   "cell_type": "code",
   "execution_count": 101,
   "metadata": {},
   "outputs": [
    {
     "data": {
      "application/vnd.microsoft.datawrangler.viewer.v0+json": {
       "columns": [
        {
         "name": "index",
         "rawType": "object",
         "type": "string"
        },
        {
         "name": "Mx",
         "rawType": "int32",
         "type": "integer"
        },
        {
         "name": "My",
         "rawType": "int32",
         "type": "integer"
        },
        {
         "name": "V",
         "rawType": "int32",
         "type": "integer"
        }
       ],
       "ref": "71dfc4f1-ab72-4c07-8194-599ae246c439",
       "rows": [
        [
         "Piso 1",
         "0",
         "8",
         "2"
        ],
        [
         "Piso 2",
         "5",
         "0",
         "7"
        ],
        [
         "Piso 3",
         "2",
         "7",
         "5"
        ]
       ],
       "shape": {
        "columns": 3,
        "rows": 3
       }
      },
      "text/html": [
       "<div>\n",
       "<style scoped>\n",
       "    .dataframe tbody tr th:only-of-type {\n",
       "        vertical-align: middle;\n",
       "    }\n",
       "\n",
       "    .dataframe tbody tr th {\n",
       "        vertical-align: top;\n",
       "    }\n",
       "\n",
       "    .dataframe thead th {\n",
       "        text-align: right;\n",
       "    }\n",
       "</style>\n",
       "<table border=\"1\" class=\"dataframe\">\n",
       "  <thead>\n",
       "    <tr style=\"text-align: right;\">\n",
       "      <th></th>\n",
       "      <th>Mx</th>\n",
       "      <th>My</th>\n",
       "      <th>V</th>\n",
       "    </tr>\n",
       "  </thead>\n",
       "  <tbody>\n",
       "    <tr>\n",
       "      <th>Piso 1</th>\n",
       "      <td>0</td>\n",
       "      <td>8</td>\n",
       "      <td>2</td>\n",
       "    </tr>\n",
       "    <tr>\n",
       "      <th>Piso 2</th>\n",
       "      <td>5</td>\n",
       "      <td>0</td>\n",
       "      <td>7</td>\n",
       "    </tr>\n",
       "    <tr>\n",
       "      <th>Piso 3</th>\n",
       "      <td>2</td>\n",
       "      <td>7</td>\n",
       "      <td>5</td>\n",
       "    </tr>\n",
       "  </tbody>\n",
       "</table>\n",
       "</div>"
      ],
      "text/plain": [
       "        Mx  My  V\n",
       "Piso 1   0   8  2\n",
       "Piso 2   5   0  7\n",
       "Piso 3   2   7  5"
      ]
     },
     "metadata": {},
     "output_type": "display_data"
    }
   ],
   "source": [
    "# display(df.iloc[:2,1:4])\n",
    "display(df.iloc[:,2:])"
   ]
  },
  {
   "cell_type": "markdown",
   "metadata": {},
   "source": [
    "La diferencia entre *loc* y *iloc* es que *loc* utiliza los nombres de las columnas y filas, mientras que *iloc* utiliza los índices.\n",
    "\n",
    "### Crear un DataFrame con encabezados complejos\n",
    "\n",
    "En algunas ocasiones es útil estructurar los datos de una forma más compacta que simplemente por líneas o columnas. En estos casos la función **MultiIndex**\n",
    "toma lugar. En la siguiente celda creamos un DataFrame de forma 4x4 con un encabezado e índices anidados que usaremos en ejemplos siguientes:"
   ]
  },
  {
   "cell_type": "code",
   "execution_count": 102,
   "metadata": {},
   "outputs": [
    {
     "data": {
      "application/vnd.microsoft.datawrangler.viewer.v0+json": {
       "columns": [
        {
         "name": "(None, None)",
         "rawType": "object",
         "type": "unknown"
        },
        {
         "name": "('A', 'x')",
         "rawType": "int64",
         "type": "integer"
        },
        {
         "name": "('A', 'y')",
         "rawType": "int64",
         "type": "integer"
        },
        {
         "name": "('B', 'u')",
         "rawType": "int64",
         "type": "integer"
        },
        {
         "name": "('B', 'v')",
         "rawType": "int64",
         "type": "integer"
        }
       ],
       "ref": "87000c47-6ef5-42d9-87fe-8276e282fac7",
       "rows": [
        [
         "('M', 'bar')",
         "9",
         "4",
         "8",
         "5"
        ],
        [
         "('M', 'foo')",
         "4",
         "4",
         "0",
         "1"
        ],
        [
         "('N', 'baz')",
         "5",
         "7",
         "4",
         "5"
        ],
        [
         "('N', 'qux')",
         "6",
         "6",
         "2",
         "2"
        ]
       ],
       "shape": {
        "columns": 4,
        "rows": 4
       }
      },
      "text/html": [
       "<div>\n",
       "<style scoped>\n",
       "    .dataframe tbody tr th:only-of-type {\n",
       "        vertical-align: middle;\n",
       "    }\n",
       "\n",
       "    .dataframe tbody tr th {\n",
       "        vertical-align: top;\n",
       "    }\n",
       "\n",
       "    .dataframe thead tr th {\n",
       "        text-align: left;\n",
       "    }\n",
       "</style>\n",
       "<table border=\"1\" class=\"dataframe\">\n",
       "  <thead>\n",
       "    <tr>\n",
       "      <th></th>\n",
       "      <th></th>\n",
       "      <th colspan=\"2\" halign=\"left\">A</th>\n",
       "      <th colspan=\"2\" halign=\"left\">B</th>\n",
       "    </tr>\n",
       "    <tr>\n",
       "      <th></th>\n",
       "      <th></th>\n",
       "      <th>x</th>\n",
       "      <th>y</th>\n",
       "      <th>u</th>\n",
       "      <th>v</th>\n",
       "    </tr>\n",
       "  </thead>\n",
       "  <tbody>\n",
       "    <tr>\n",
       "      <th rowspan=\"2\" valign=\"top\">M</th>\n",
       "      <th>bar</th>\n",
       "      <td>9</td>\n",
       "      <td>4</td>\n",
       "      <td>8</td>\n",
       "      <td>5</td>\n",
       "    </tr>\n",
       "    <tr>\n",
       "      <th>foo</th>\n",
       "      <td>4</td>\n",
       "      <td>4</td>\n",
       "      <td>0</td>\n",
       "      <td>1</td>\n",
       "    </tr>\n",
       "    <tr>\n",
       "      <th rowspan=\"2\" valign=\"top\">N</th>\n",
       "      <th>baz</th>\n",
       "      <td>5</td>\n",
       "      <td>7</td>\n",
       "      <td>4</td>\n",
       "      <td>5</td>\n",
       "    </tr>\n",
       "    <tr>\n",
       "      <th>qux</th>\n",
       "      <td>6</td>\n",
       "      <td>6</td>\n",
       "      <td>2</td>\n",
       "      <td>2</td>\n",
       "    </tr>\n",
       "  </tbody>\n",
       "</table>\n",
       "</div>"
      ],
      "text/plain": [
       "       A     B   \n",
       "       x  y  u  v\n",
       "M bar  9  4  8  5\n",
       "  foo  4  4  0  1\n",
       "N baz  5  7  4  5\n",
       "  qux  6  6  2  2"
      ]
     },
     "execution_count": 102,
     "metadata": {},
     "output_type": "execute_result"
    }
   ],
   "source": [
    "encabezados = pd.MultiIndex.from_tuples([(\"A\", \"x\"), (\"A\", \"y\"), (\"B\", \"u\"), (\"B\", \"v\")])\n",
    "indices = [np.array([\"M\", \"M\", \"N\", \"N\"]), np.array([\"bar\", \"foo\", \"baz\", \"qux\"])]\n",
    "datos = np.array([[9, 4, 8, 5],[4, 4, 0, 1],[5, 7, 4, 5],[6, 6, 2, 2]])\n",
    "df = pd.DataFrame(data=datos, columns=encabezados, index=indices)\n",
    "df"
   ]
  },
  {
   "cell_type": "markdown",
   "metadata": {},
   "source": [
    "Cómo puedes ver, antes de crear el DataFrame en la celda anterior, hemos creado las variables **encabezados**, **indices**  y **datos**. Hemos utilizado\n",
    "la función *pd.MultiIndex.from_tuples* para construir los encabezados pasando una lista de tuplas que define la jerarquía de las columnas. El primer elemento\n",
    "de las tuplas define el primer nivel y de forma similar se aplica para los siguientes niveles. En la siguiente línea creamos los índices de las filas\n",
    "utilizando arrays de NumPy. El primer array de la lista define el primer nivel,\n",
    "y el segundo array define el segundo nivel. En la línea 3 creamos un array de\n",
    "datos, asegurándonos de que las dimensiones sean compatibles con los\n",
    "encabezados e índices que ya se han definido. Finalmente construimos el DataFrame pasando cada parámetro correspondiente.\n",
    "\n",
    "Para seleccionar un DataFrame multi-índice también podemos utilizar *loc* y *iloc*. Con *loc* podemos especificar las columnas y las sub-filas utilizando tuplas:"
   ]
  },
  {
   "cell_type": "code",
   "execution_count": 103,
   "metadata": {},
   "outputs": [
    {
     "data": {
      "text/plain": [
       "np.int64(4)"
      ]
     },
     "execution_count": 103,
     "metadata": {},
     "output_type": "execute_result"
    }
   ],
   "source": [
    "df.loc[(\"M\", \"foo\"), (\"A\", \"x\")]"
   ]
  },
  {
   "cell_type": "markdown",
   "metadata": {},
   "source": [
    "### Operaciones con DataFrames\n",
    "\n",
    "Algo que surge frecuentemente cuando utilizamos DataFrames es la necesidad de realizar operaciones algebráicas entre columnas. Por ejemplo, multiplicar dos\n",
    "columnas y almacenar el resultado en una nueva columnas. En la siguiente celda de código calculamos el segundo momento de inercia de un rectángulo, dados el\n",
    "ancho **b** y la altura **h**:"
   ]
  },
  {
   "cell_type": "code",
   "execution_count": 104,
   "metadata": {},
   "outputs": [
    {
     "data": {
      "application/vnd.microsoft.datawrangler.viewer.v0+json": {
       "columns": [
        {
         "name": "index",
         "rawType": "int64",
         "type": "integer"
        },
        {
         "name": "b",
         "rawType": "int64",
         "type": "integer"
        },
        {
         "name": "h",
         "rawType": "int64",
         "type": "integer"
        }
       ],
       "ref": "bc8aac46-ed4e-4fd4-bead-fe6d7bfdd5a5",
       "rows": [
        [
         "0",
         "30",
         "60"
        ],
        [
         "1",
         "45",
         "50"
        ],
        [
         "2",
         "40",
         "50"
        ]
       ],
       "shape": {
        "columns": 2,
        "rows": 3
       }
      },
      "text/html": [
       "<div>\n",
       "<style scoped>\n",
       "    .dataframe tbody tr th:only-of-type {\n",
       "        vertical-align: middle;\n",
       "    }\n",
       "\n",
       "    .dataframe tbody tr th {\n",
       "        vertical-align: top;\n",
       "    }\n",
       "\n",
       "    .dataframe thead th {\n",
       "        text-align: right;\n",
       "    }\n",
       "</style>\n",
       "<table border=\"1\" class=\"dataframe\">\n",
       "  <thead>\n",
       "    <tr style=\"text-align: right;\">\n",
       "      <th></th>\n",
       "      <th>b</th>\n",
       "      <th>h</th>\n",
       "    </tr>\n",
       "  </thead>\n",
       "  <tbody>\n",
       "    <tr>\n",
       "      <th>0</th>\n",
       "      <td>30</td>\n",
       "      <td>60</td>\n",
       "    </tr>\n",
       "    <tr>\n",
       "      <th>1</th>\n",
       "      <td>45</td>\n",
       "      <td>50</td>\n",
       "    </tr>\n",
       "    <tr>\n",
       "      <th>2</th>\n",
       "      <td>40</td>\n",
       "      <td>50</td>\n",
       "    </tr>\n",
       "  </tbody>\n",
       "</table>\n",
       "</div>"
      ],
      "text/plain": [
       "    b   h\n",
       "0  30  60\n",
       "1  45  50\n",
       "2  40  50"
      ]
     },
     "execution_count": 104,
     "metadata": {},
     "output_type": "execute_result"
    }
   ],
   "source": [
    "b = np.array([30, 45, 40])\n",
    "h = np.array([60, 50, 50])\n",
    "df = pd.DataFrame({\"b\": b, \"h\": h})\n",
    "df"
   ]
  },
  {
   "cell_type": "code",
   "execution_count": 105,
   "metadata": {},
   "outputs": [
    {
     "data": {
      "application/vnd.microsoft.datawrangler.viewer.v0+json": {
       "columns": [
        {
         "name": "index",
         "rawType": "int64",
         "type": "integer"
        },
        {
         "name": "b",
         "rawType": "int64",
         "type": "integer"
        },
        {
         "name": "h",
         "rawType": "int64",
         "type": "integer"
        },
        {
         "name": "Inercia",
         "rawType": "float64",
         "type": "float"
        }
       ],
       "ref": "d834877f-c433-4845-9fcc-63166716d630",
       "rows": [
        [
         "0",
         "30",
         "60",
         "54.0"
        ],
        [
         "1",
         "45",
         "50",
         "46.88"
        ],
        [
         "2",
         "40",
         "50",
         "41.67"
        ]
       ],
       "shape": {
        "columns": 3,
        "rows": 3
       }
      },
      "text/html": [
       "<div>\n",
       "<style scoped>\n",
       "    .dataframe tbody tr th:only-of-type {\n",
       "        vertical-align: middle;\n",
       "    }\n",
       "\n",
       "    .dataframe tbody tr th {\n",
       "        vertical-align: top;\n",
       "    }\n",
       "\n",
       "    .dataframe thead th {\n",
       "        text-align: right;\n",
       "    }\n",
       "</style>\n",
       "<table border=\"1\" class=\"dataframe\">\n",
       "  <thead>\n",
       "    <tr style=\"text-align: right;\">\n",
       "      <th></th>\n",
       "      <th>b</th>\n",
       "      <th>h</th>\n",
       "      <th>Inercia</th>\n",
       "    </tr>\n",
       "  </thead>\n",
       "  <tbody>\n",
       "    <tr>\n",
       "      <th>0</th>\n",
       "      <td>30</td>\n",
       "      <td>60</td>\n",
       "      <td>54.00</td>\n",
       "    </tr>\n",
       "    <tr>\n",
       "      <th>1</th>\n",
       "      <td>45</td>\n",
       "      <td>50</td>\n",
       "      <td>46.88</td>\n",
       "    </tr>\n",
       "    <tr>\n",
       "      <th>2</th>\n",
       "      <td>40</td>\n",
       "      <td>50</td>\n",
       "      <td>41.67</td>\n",
       "    </tr>\n",
       "  </tbody>\n",
       "</table>\n",
       "</div>"
      ],
      "text/plain": [
       "    b   h  Inercia\n",
       "0  30  60    54.00\n",
       "1  45  50    46.88\n",
       "2  40  50    41.67"
      ]
     },
     "execution_count": 105,
     "metadata": {},
     "output_type": "execute_result"
    }
   ],
   "source": [
    "df[\"Inercia\"] = (df.b * (df.h)**3 / 12 /10000)\n",
    "df = df.round(2)\n",
    "df"
   ]
  },
  {
   "cell_type": "code",
   "execution_count": 106,
   "metadata": {},
   "outputs": [
    {
     "data": {
      "application/vnd.microsoft.datawrangler.viewer.v0+json": {
       "columns": [
        {
         "name": "index",
         "rawType": "int64",
         "type": "integer"
        },
        {
         "name": "b",
         "rawType": "int64",
         "type": "integer"
        },
        {
         "name": "h",
         "rawType": "int64",
         "type": "integer"
        },
        {
         "name": "Inercia",
         "rawType": "float64",
         "type": "float"
        },
        {
         "name": "Area",
         "rawType": "int64",
         "type": "integer"
        }
       ],
       "ref": "48ddaf03-29b6-4e5f-be0e-14968ab5418d",
       "rows": [
        [
         "0",
         "30",
         "60",
         "54.0",
         "1800"
        ],
        [
         "1",
         "45",
         "50",
         "46.88",
         "2250"
        ],
        [
         "2",
         "40",
         "50",
         "41.67",
         "2000"
        ]
       ],
       "shape": {
        "columns": 4,
        "rows": 3
       }
      },
      "text/html": [
       "<div>\n",
       "<style scoped>\n",
       "    .dataframe tbody tr th:only-of-type {\n",
       "        vertical-align: middle;\n",
       "    }\n",
       "\n",
       "    .dataframe tbody tr th {\n",
       "        vertical-align: top;\n",
       "    }\n",
       "\n",
       "    .dataframe thead th {\n",
       "        text-align: right;\n",
       "    }\n",
       "</style>\n",
       "<table border=\"1\" class=\"dataframe\">\n",
       "  <thead>\n",
       "    <tr style=\"text-align: right;\">\n",
       "      <th></th>\n",
       "      <th>b</th>\n",
       "      <th>h</th>\n",
       "      <th>Inercia</th>\n",
       "      <th>Area</th>\n",
       "    </tr>\n",
       "  </thead>\n",
       "  <tbody>\n",
       "    <tr>\n",
       "      <th>0</th>\n",
       "      <td>30</td>\n",
       "      <td>60</td>\n",
       "      <td>54.00</td>\n",
       "      <td>1800</td>\n",
       "    </tr>\n",
       "    <tr>\n",
       "      <th>1</th>\n",
       "      <td>45</td>\n",
       "      <td>50</td>\n",
       "      <td>46.88</td>\n",
       "      <td>2250</td>\n",
       "    </tr>\n",
       "    <tr>\n",
       "      <th>2</th>\n",
       "      <td>40</td>\n",
       "      <td>50</td>\n",
       "      <td>41.67</td>\n",
       "      <td>2000</td>\n",
       "    </tr>\n",
       "  </tbody>\n",
       "</table>\n",
       "</div>"
      ],
      "text/plain": [
       "    b   h  Inercia  Area\n",
       "0  30  60    54.00  1800\n",
       "1  45  50    46.88  2250\n",
       "2  40  50    41.67  2000"
      ]
     },
     "execution_count": 106,
     "metadata": {},
     "output_type": "execute_result"
    }
   ],
   "source": [
    "df[\"Area\"] = (df.b * (df.h))\n",
    "df"
   ]
  },
  {
   "cell_type": "code",
   "execution_count": 107,
   "metadata": {},
   "outputs": [
    {
     "data": {
      "application/vnd.microsoft.datawrangler.viewer.v0+json": {
       "columns": [
        {
         "name": "index",
         "rawType": "int64",
         "type": "integer"
        },
        {
         "name": "b",
         "rawType": "int64",
         "type": "integer"
        },
        {
         "name": "h",
         "rawType": "int64",
         "type": "integer"
        },
        {
         "name": "Inercia",
         "rawType": "float64",
         "type": "float"
        },
        {
         "name": "Area",
         "rawType": "int64",
         "type": "integer"
        },
        {
         "name": "Limite",
         "rawType": "float64",
         "type": "float"
        }
       ],
       "ref": "b3637050-c71e-47a9-9f28-e0889569e430",
       "rows": [
        [
         "0",
         "30",
         "60",
         "54.0",
         "1800",
         "0.007"
        ],
        [
         "1",
         "45",
         "50",
         "46.88",
         "2250",
         "0.007"
        ],
        [
         "2",
         "40",
         "50",
         "41.67",
         "2000",
         "0.007"
        ]
       ],
       "shape": {
        "columns": 5,
        "rows": 3
       }
      },
      "text/html": [
       "<div>\n",
       "<style scoped>\n",
       "    .dataframe tbody tr th:only-of-type {\n",
       "        vertical-align: middle;\n",
       "    }\n",
       "\n",
       "    .dataframe tbody tr th {\n",
       "        vertical-align: top;\n",
       "    }\n",
       "\n",
       "    .dataframe thead th {\n",
       "        text-align: right;\n",
       "    }\n",
       "</style>\n",
       "<table border=\"1\" class=\"dataframe\">\n",
       "  <thead>\n",
       "    <tr style=\"text-align: right;\">\n",
       "      <th></th>\n",
       "      <th>b</th>\n",
       "      <th>h</th>\n",
       "      <th>Inercia</th>\n",
       "      <th>Area</th>\n",
       "      <th>Limite</th>\n",
       "    </tr>\n",
       "  </thead>\n",
       "  <tbody>\n",
       "    <tr>\n",
       "      <th>0</th>\n",
       "      <td>30</td>\n",
       "      <td>60</td>\n",
       "      <td>54.00</td>\n",
       "      <td>1800</td>\n",
       "      <td>0.007</td>\n",
       "    </tr>\n",
       "    <tr>\n",
       "      <th>1</th>\n",
       "      <td>45</td>\n",
       "      <td>50</td>\n",
       "      <td>46.88</td>\n",
       "      <td>2250</td>\n",
       "      <td>0.007</td>\n",
       "    </tr>\n",
       "    <tr>\n",
       "      <th>2</th>\n",
       "      <td>40</td>\n",
       "      <td>50</td>\n",
       "      <td>41.67</td>\n",
       "      <td>2000</td>\n",
       "      <td>0.007</td>\n",
       "    </tr>\n",
       "  </tbody>\n",
       "</table>\n",
       "</div>"
      ],
      "text/plain": [
       "    b   h  Inercia  Area  Limite\n",
       "0  30  60    54.00  1800   0.007\n",
       "1  45  50    46.88  2250   0.007\n",
       "2  40  50    41.67  2000   0.007"
      ]
     },
     "execution_count": 107,
     "metadata": {},
     "output_type": "execute_result"
    }
   ],
   "source": [
    "df[\"Limite\"] = 0.007\n",
    "df"
   ]
  },
  {
   "cell_type": "markdown",
   "metadata": {},
   "source": [
    "En las líneas 1 y 2 creamos dos arrays que contienen las dimensiones de los rectángulos. Luego, creamos el DataFrame con estos dos arrays. Y finalmente\n",
    "computamos el segundo momento de inercia utilizando la fórmula:\n",
    "\n",
    "$\\frac{b.h^{3}}{12}$\n",
    "\n",
    "El resultado se almacena en una nueva columna llamado **I**.\n",
    "\n",
    "### Trabajo con datos externos\n",
    "\n",
    "A menudo los ingenieros deben llevar a cabo operaciones que involucran datos almacenados en archivos *.csv* o *.xlsx*. Pandas incluye funciones para cargar\n",
    "este tipo de archivos y almacenar sus datos en DataFrames, e incluso manejar datos faltantes.\n",
    "\n",
    "#### Cargar una tabla de Excel\n",
    "\n",
    ">*NOTA*: En versiones recientes de Pandas será necesario instalar la biblioteca **openpyxl** antes de poder realizar lectura de archivos de Excel\n",
    "\n",
    "Para el siguiente ejemplo utilizaremos el archivo *ejemplo_columna.xlsx*, que debe encontrarse en la misma carpeta que el presente cuaderno de Jupyter. Podremos cargar el archivo de la siguiente manera:"
   ]
  },
  {
   "cell_type": "code",
   "execution_count": 108,
   "metadata": {},
   "outputs": [
    {
     "data": {
      "application/vnd.microsoft.datawrangler.viewer.v0+json": {
       "columns": [
        {
         "name": "index",
         "rawType": "float64",
         "type": "float"
        },
        {
         "name": "('Columna', 'M neg')",
         "rawType": "float64",
         "type": "float"
        },
        {
         "name": "('Columna', 'M pos')",
         "rawType": "float64",
         "type": "float"
        },
        {
         "name": "('Columna', 'V neg')",
         "rawType": "float64",
         "type": "float"
        },
        {
         "name": "('Columna', 'V pos')",
         "rawType": "float64",
         "type": "float"
        },
        {
         "name": "('Columna', 'N neg')",
         "rawType": "float64",
         "type": "float"
        },
        {
         "name": "('Columna', 'N pos')",
         "rawType": "float64",
         "type": "float"
        }
       ],
       "ref": "82cbb7ce-451d-4735-87e5-789579253d9e",
       "rows": [
        [
         "0.0",
         "0.0",
         "0.0",
         "0.0",
         "0.0",
         "0.0",
         "0.0"
        ],
        [
         "0.0",
         "0.0",
         "2.991885",
         "0.0",
         "0.567877",
         "0.0",
         "806.822357"
        ],
        [
         "0.1675",
         "0.0",
         "2.902418",
         "0.0",
         "0.567877",
         "0.0",
         "806.822357"
        ],
        [
         "0.335",
         "0.0",
         "2.813336",
         "0.0",
         "0.567833",
         "0.0",
         "806.822359"
        ],
        [
         "0.5025",
         "0.0",
         "2.724685",
         "0.0",
         "0.567678",
         "0.0",
         "806.822362"
        ],
        [
         "0.67",
         "0.0",
         "2.636522",
         "0.0",
         "0.56735",
         "0.0",
         "806.822367"
        ],
        [
         "0.8375",
         "0.0",
         "2.548908",
         "0.0",
         "0.566792",
         "0.0",
         "806.822383"
        ],
        [
         "1.005",
         "0.0",
         "2.461914",
         "0.0",
         "0.566792",
         "0.0",
         "806.822394"
        ],
        [
         "1.1725",
         "0.0",
         "2.375617",
         "0.0",
         "0.565956",
         "0.0",
         "806.822407"
        ],
        [
         "1.34",
         "0.0",
         "2.290097",
         "0.0",
         "0.564799",
         "0.0",
         "806.822421"
        ],
        [
         "1.508",
         "0.0",
         "2.205442",
         "0.0",
         "0.563286",
         "0.0",
         "806.822437"
        ],
        [
         "1.675",
         "0.0",
         "2.121742",
         "0.0",
         "0.561389",
         "0.0",
         "806.822455"
        ],
        [
         "1.8425",
         "0.0",
         "2.039092",
         "0.0",
         "0.559087",
         "0.0",
         "806.822474"
        ],
        [
         "2.01",
         "0.0",
         "1.957588",
         "0.0",
         "0.556367",
         "0.0",
         "806.822474"
        ],
        [
         "2.1775",
         "0.0",
         "1.877334",
         "0.0",
         "0.553223",
         "0.0",
         "806.822496"
        ],
        [
         "2.345",
         "0.0",
         "1.798434",
         "0.0",
         "0.549654",
         "0.0",
         "806.822519"
        ],
        [
         "2.5125",
         "0.0",
         "1.720998",
         "0.0",
         "0.545668",
         "0.0",
         "806.822544"
        ],
        [
         "2.68",
         "0.0",
         "1.645142",
         "0.0",
         "0.541277",
         "0.0",
         "806.822571"
        ],
        [
         "2.8475",
         "0.0",
         "1.570987",
         "0.0",
         "0.531353",
         "0.0",
         "806.822599"
        ],
        [
         "3.015",
         "0.0",
         "1.498662",
         "0.0",
         "0.525866",
         "0.0",
         "806.822629"
        ],
        [
         "3.1825",
         "0.0",
         "1.428309",
         "0.0",
         "0.520065",
         "0.0",
         "806.822661"
        ],
        [
         "3.35",
         "0.0",
         "1.360079",
         "0.0",
         "0.513978",
         "0.0",
         "806.822695"
        ],
        [
         "3.35",
         "0.0",
         "3.086953",
         "0.0",
         "0.602725",
         "0.0",
         "220.708617"
        ],
        [
         "5.025",
         "0.0",
         "2.150336",
         "0.0",
         "0.602725",
         "0.0",
         "220.708617"
        ],
        [
         "6.7",
         "0.0",
         "1.317839",
         "0.0",
         "0.602725",
         "0.0",
         "220.708617"
        ],
        [
         "6.7",
         null,
         null,
         null,
         null,
         null,
         null
        ]
       ],
       "shape": {
        "columns": 6,
        "rows": 26
       }
      },
      "text/html": [
       "<div>\n",
       "<style scoped>\n",
       "    .dataframe tbody tr th:only-of-type {\n",
       "        vertical-align: middle;\n",
       "    }\n",
       "\n",
       "    .dataframe tbody tr th {\n",
       "        vertical-align: top;\n",
       "    }\n",
       "\n",
       "    .dataframe thead tr th {\n",
       "        text-align: left;\n",
       "    }\n",
       "</style>\n",
       "<table border=\"1\" class=\"dataframe\">\n",
       "  <thead>\n",
       "    <tr>\n",
       "      <th>Columna</th>\n",
       "      <th colspan=\"6\" halign=\"left\">Columna</th>\n",
       "    </tr>\n",
       "    <tr>\n",
       "      <th>x</th>\n",
       "      <th>M neg</th>\n",
       "      <th>M pos</th>\n",
       "      <th>V neg</th>\n",
       "      <th>V pos</th>\n",
       "      <th>N neg</th>\n",
       "      <th>N pos</th>\n",
       "    </tr>\n",
       "  </thead>\n",
       "  <tbody>\n",
       "    <tr>\n",
       "      <th>0.0000</th>\n",
       "      <td>0.0</td>\n",
       "      <td>0.000000</td>\n",
       "      <td>0.0</td>\n",
       "      <td>0.000000</td>\n",
       "      <td>0.0</td>\n",
       "      <td>0.000000</td>\n",
       "    </tr>\n",
       "    <tr>\n",
       "      <th>0.0000</th>\n",
       "      <td>0.0</td>\n",
       "      <td>2.991885</td>\n",
       "      <td>0.0</td>\n",
       "      <td>0.567877</td>\n",
       "      <td>0.0</td>\n",
       "      <td>806.822357</td>\n",
       "    </tr>\n",
       "    <tr>\n",
       "      <th>0.1675</th>\n",
       "      <td>0.0</td>\n",
       "      <td>2.902418</td>\n",
       "      <td>0.0</td>\n",
       "      <td>0.567877</td>\n",
       "      <td>0.0</td>\n",
       "      <td>806.822357</td>\n",
       "    </tr>\n",
       "    <tr>\n",
       "      <th>0.3350</th>\n",
       "      <td>0.0</td>\n",
       "      <td>2.813336</td>\n",
       "      <td>0.0</td>\n",
       "      <td>0.567833</td>\n",
       "      <td>0.0</td>\n",
       "      <td>806.822359</td>\n",
       "    </tr>\n",
       "    <tr>\n",
       "      <th>0.5025</th>\n",
       "      <td>0.0</td>\n",
       "      <td>2.724685</td>\n",
       "      <td>0.0</td>\n",
       "      <td>0.567678</td>\n",
       "      <td>0.0</td>\n",
       "      <td>806.822362</td>\n",
       "    </tr>\n",
       "    <tr>\n",
       "      <th>0.6700</th>\n",
       "      <td>0.0</td>\n",
       "      <td>2.636522</td>\n",
       "      <td>0.0</td>\n",
       "      <td>0.567350</td>\n",
       "      <td>0.0</td>\n",
       "      <td>806.822367</td>\n",
       "    </tr>\n",
       "    <tr>\n",
       "      <th>0.8375</th>\n",
       "      <td>0.0</td>\n",
       "      <td>2.548908</td>\n",
       "      <td>0.0</td>\n",
       "      <td>0.566792</td>\n",
       "      <td>0.0</td>\n",
       "      <td>806.822383</td>\n",
       "    </tr>\n",
       "    <tr>\n",
       "      <th>1.0050</th>\n",
       "      <td>0.0</td>\n",
       "      <td>2.461914</td>\n",
       "      <td>0.0</td>\n",
       "      <td>0.566792</td>\n",
       "      <td>0.0</td>\n",
       "      <td>806.822394</td>\n",
       "    </tr>\n",
       "    <tr>\n",
       "      <th>1.1725</th>\n",
       "      <td>0.0</td>\n",
       "      <td>2.375617</td>\n",
       "      <td>0.0</td>\n",
       "      <td>0.565956</td>\n",
       "      <td>0.0</td>\n",
       "      <td>806.822407</td>\n",
       "    </tr>\n",
       "    <tr>\n",
       "      <th>1.3400</th>\n",
       "      <td>0.0</td>\n",
       "      <td>2.290097</td>\n",
       "      <td>0.0</td>\n",
       "      <td>0.564799</td>\n",
       "      <td>0.0</td>\n",
       "      <td>806.822421</td>\n",
       "    </tr>\n",
       "    <tr>\n",
       "      <th>1.5080</th>\n",
       "      <td>0.0</td>\n",
       "      <td>2.205442</td>\n",
       "      <td>0.0</td>\n",
       "      <td>0.563286</td>\n",
       "      <td>0.0</td>\n",
       "      <td>806.822437</td>\n",
       "    </tr>\n",
       "    <tr>\n",
       "      <th>1.6750</th>\n",
       "      <td>0.0</td>\n",
       "      <td>2.121742</td>\n",
       "      <td>0.0</td>\n",
       "      <td>0.561389</td>\n",
       "      <td>0.0</td>\n",
       "      <td>806.822455</td>\n",
       "    </tr>\n",
       "    <tr>\n",
       "      <th>1.8425</th>\n",
       "      <td>0.0</td>\n",
       "      <td>2.039092</td>\n",
       "      <td>0.0</td>\n",
       "      <td>0.559087</td>\n",
       "      <td>0.0</td>\n",
       "      <td>806.822474</td>\n",
       "    </tr>\n",
       "    <tr>\n",
       "      <th>2.0100</th>\n",
       "      <td>0.0</td>\n",
       "      <td>1.957588</td>\n",
       "      <td>0.0</td>\n",
       "      <td>0.556367</td>\n",
       "      <td>0.0</td>\n",
       "      <td>806.822474</td>\n",
       "    </tr>\n",
       "    <tr>\n",
       "      <th>2.1775</th>\n",
       "      <td>0.0</td>\n",
       "      <td>1.877334</td>\n",
       "      <td>0.0</td>\n",
       "      <td>0.553223</td>\n",
       "      <td>0.0</td>\n",
       "      <td>806.822496</td>\n",
       "    </tr>\n",
       "    <tr>\n",
       "      <th>2.3450</th>\n",
       "      <td>0.0</td>\n",
       "      <td>1.798434</td>\n",
       "      <td>0.0</td>\n",
       "      <td>0.549654</td>\n",
       "      <td>0.0</td>\n",
       "      <td>806.822519</td>\n",
       "    </tr>\n",
       "    <tr>\n",
       "      <th>2.5125</th>\n",
       "      <td>0.0</td>\n",
       "      <td>1.720998</td>\n",
       "      <td>0.0</td>\n",
       "      <td>0.545668</td>\n",
       "      <td>0.0</td>\n",
       "      <td>806.822544</td>\n",
       "    </tr>\n",
       "    <tr>\n",
       "      <th>2.6800</th>\n",
       "      <td>0.0</td>\n",
       "      <td>1.645142</td>\n",
       "      <td>0.0</td>\n",
       "      <td>0.541277</td>\n",
       "      <td>0.0</td>\n",
       "      <td>806.822571</td>\n",
       "    </tr>\n",
       "    <tr>\n",
       "      <th>2.8475</th>\n",
       "      <td>0.0</td>\n",
       "      <td>1.570987</td>\n",
       "      <td>0.0</td>\n",
       "      <td>0.531353</td>\n",
       "      <td>0.0</td>\n",
       "      <td>806.822599</td>\n",
       "    </tr>\n",
       "    <tr>\n",
       "      <th>3.0150</th>\n",
       "      <td>0.0</td>\n",
       "      <td>1.498662</td>\n",
       "      <td>0.0</td>\n",
       "      <td>0.525866</td>\n",
       "      <td>0.0</td>\n",
       "      <td>806.822629</td>\n",
       "    </tr>\n",
       "    <tr>\n",
       "      <th>3.1825</th>\n",
       "      <td>0.0</td>\n",
       "      <td>1.428309</td>\n",
       "      <td>0.0</td>\n",
       "      <td>0.520065</td>\n",
       "      <td>0.0</td>\n",
       "      <td>806.822661</td>\n",
       "    </tr>\n",
       "    <tr>\n",
       "      <th>3.3500</th>\n",
       "      <td>0.0</td>\n",
       "      <td>1.360079</td>\n",
       "      <td>0.0</td>\n",
       "      <td>0.513978</td>\n",
       "      <td>0.0</td>\n",
       "      <td>806.822695</td>\n",
       "    </tr>\n",
       "    <tr>\n",
       "      <th>3.3500</th>\n",
       "      <td>0.0</td>\n",
       "      <td>3.086953</td>\n",
       "      <td>0.0</td>\n",
       "      <td>0.602725</td>\n",
       "      <td>0.0</td>\n",
       "      <td>220.708617</td>\n",
       "    </tr>\n",
       "    <tr>\n",
       "      <th>5.0250</th>\n",
       "      <td>0.0</td>\n",
       "      <td>2.150336</td>\n",
       "      <td>0.0</td>\n",
       "      <td>0.602725</td>\n",
       "      <td>0.0</td>\n",
       "      <td>220.708617</td>\n",
       "    </tr>\n",
       "    <tr>\n",
       "      <th>6.7000</th>\n",
       "      <td>0.0</td>\n",
       "      <td>1.317839</td>\n",
       "      <td>0.0</td>\n",
       "      <td>0.602725</td>\n",
       "      <td>0.0</td>\n",
       "      <td>220.708617</td>\n",
       "    </tr>\n",
       "    <tr>\n",
       "      <th>6.7000</th>\n",
       "      <td>NaN</td>\n",
       "      <td>NaN</td>\n",
       "      <td>NaN</td>\n",
       "      <td>NaN</td>\n",
       "      <td>NaN</td>\n",
       "      <td>NaN</td>\n",
       "    </tr>\n",
       "  </tbody>\n",
       "</table>\n",
       "</div>"
      ],
      "text/plain": [
       "Columna Columna                                            \n",
       "x         M neg     M pos V neg     V pos N neg       N pos\n",
       "0.0000      0.0  0.000000   0.0  0.000000   0.0    0.000000\n",
       "0.0000      0.0  2.991885   0.0  0.567877   0.0  806.822357\n",
       "0.1675      0.0  2.902418   0.0  0.567877   0.0  806.822357\n",
       "0.3350      0.0  2.813336   0.0  0.567833   0.0  806.822359\n",
       "0.5025      0.0  2.724685   0.0  0.567678   0.0  806.822362\n",
       "0.6700      0.0  2.636522   0.0  0.567350   0.0  806.822367\n",
       "0.8375      0.0  2.548908   0.0  0.566792   0.0  806.822383\n",
       "1.0050      0.0  2.461914   0.0  0.566792   0.0  806.822394\n",
       "1.1725      0.0  2.375617   0.0  0.565956   0.0  806.822407\n",
       "1.3400      0.0  2.290097   0.0  0.564799   0.0  806.822421\n",
       "1.5080      0.0  2.205442   0.0  0.563286   0.0  806.822437\n",
       "1.6750      0.0  2.121742   0.0  0.561389   0.0  806.822455\n",
       "1.8425      0.0  2.039092   0.0  0.559087   0.0  806.822474\n",
       "2.0100      0.0  1.957588   0.0  0.556367   0.0  806.822474\n",
       "2.1775      0.0  1.877334   0.0  0.553223   0.0  806.822496\n",
       "2.3450      0.0  1.798434   0.0  0.549654   0.0  806.822519\n",
       "2.5125      0.0  1.720998   0.0  0.545668   0.0  806.822544\n",
       "2.6800      0.0  1.645142   0.0  0.541277   0.0  806.822571\n",
       "2.8475      0.0  1.570987   0.0  0.531353   0.0  806.822599\n",
       "3.0150      0.0  1.498662   0.0  0.525866   0.0  806.822629\n",
       "3.1825      0.0  1.428309   0.0  0.520065   0.0  806.822661\n",
       "3.3500      0.0  1.360079   0.0  0.513978   0.0  806.822695\n",
       "3.3500      0.0  3.086953   0.0  0.602725   0.0  220.708617\n",
       "5.0250      0.0  2.150336   0.0  0.602725   0.0  220.708617\n",
       "6.7000      0.0  1.317839   0.0  0.602725   0.0  220.708617\n",
       "6.7000      NaN       NaN   NaN       NaN   NaN         NaN"
      ]
     },
     "execution_count": 108,
     "metadata": {},
     "output_type": "execute_result"
    }
   ],
   "source": [
    "df = pd.read_excel(\"datos/ejemplo_columna.xlsx\", header = [0,1], index_col = 0)\n",
    "df"
   ]
  },
  {
   "cell_type": "code",
   "execution_count": 109,
   "metadata": {},
   "outputs": [
    {
     "data": {
      "application/vnd.microsoft.datawrangler.viewer.v0+json": {
       "columns": [
        {
         "name": "index",
         "rawType": "float64",
         "type": "float"
        },
        {
         "name": "('Columna', 'M neg')",
         "rawType": "float64",
         "type": "float"
        },
        {
         "name": "('Columna', 'M pos')",
         "rawType": "float64",
         "type": "float"
        },
        {
         "name": "('Columna', 'V neg')",
         "rawType": "float64",
         "type": "float"
        },
        {
         "name": "('Columna', 'V pos')",
         "rawType": "float64",
         "type": "float"
        },
        {
         "name": "('Columna', 'N neg')",
         "rawType": "float64",
         "type": "float"
        },
        {
         "name": "('Columna', 'N pos')",
         "rawType": "float64",
         "type": "float"
        }
       ],
       "ref": "41532327-e3e3-417b-9bed-b9a7363b4726",
       "rows": [
        [
         "0.0",
         "0.0",
         "0.0",
         "0.0",
         "0.0",
         "0.0",
         "0.0"
        ],
        [
         "0.0",
         "0.0",
         "2.992",
         "0.0",
         "0.568",
         "0.0",
         "806.822"
        ],
        [
         "0.1675",
         "0.0",
         "2.902",
         "0.0",
         "0.568",
         "0.0",
         "806.822"
        ],
        [
         "0.335",
         "0.0",
         "2.813",
         "0.0",
         "0.568",
         "0.0",
         "806.822"
        ],
        [
         "0.5025",
         "0.0",
         "2.725",
         "0.0",
         "0.568",
         "0.0",
         "806.822"
        ],
        [
         "0.67",
         "0.0",
         "2.637",
         "0.0",
         "0.567",
         "0.0",
         "806.822"
        ],
        [
         "0.8375",
         "0.0",
         "2.549",
         "0.0",
         "0.567",
         "0.0",
         "806.822"
        ],
        [
         "1.005",
         "0.0",
         "2.462",
         "0.0",
         "0.567",
         "0.0",
         "806.822"
        ],
        [
         "1.1725",
         "0.0",
         "2.376",
         "0.0",
         "0.566",
         "0.0",
         "806.822"
        ],
        [
         "1.34",
         "0.0",
         "2.29",
         "0.0",
         "0.565",
         "0.0",
         "806.822"
        ],
        [
         "1.508",
         "0.0",
         "2.205",
         "0.0",
         "0.563",
         "0.0",
         "806.822"
        ],
        [
         "1.675",
         "0.0",
         "2.122",
         "0.0",
         "0.561",
         "0.0",
         "806.822"
        ],
        [
         "1.8425",
         "0.0",
         "2.039",
         "0.0",
         "0.559",
         "0.0",
         "806.822"
        ],
        [
         "2.01",
         "0.0",
         "1.958",
         "0.0",
         "0.556",
         "0.0",
         "806.822"
        ],
        [
         "2.1775",
         "0.0",
         "1.877",
         "0.0",
         "0.553",
         "0.0",
         "806.822"
        ],
        [
         "2.345",
         "0.0",
         "1.798",
         "0.0",
         "0.55",
         "0.0",
         "806.823"
        ],
        [
         "2.5125",
         "0.0",
         "1.721",
         "0.0",
         "0.546",
         "0.0",
         "806.823"
        ],
        [
         "2.68",
         "0.0",
         "1.645",
         "0.0",
         "0.541",
         "0.0",
         "806.823"
        ],
        [
         "2.8475",
         "0.0",
         "1.571",
         "0.0",
         "0.531",
         "0.0",
         "806.823"
        ],
        [
         "3.015",
         "0.0",
         "1.499",
         "0.0",
         "0.526",
         "0.0",
         "806.823"
        ],
        [
         "3.1825",
         "0.0",
         "1.428",
         "0.0",
         "0.52",
         "0.0",
         "806.823"
        ],
        [
         "3.35",
         "0.0",
         "1.36",
         "0.0",
         "0.514",
         "0.0",
         "806.823"
        ],
        [
         "3.35",
         "0.0",
         "3.087",
         "0.0",
         "0.603",
         "0.0",
         "220.709"
        ],
        [
         "5.025",
         "0.0",
         "2.15",
         "0.0",
         "0.603",
         "0.0",
         "220.709"
        ],
        [
         "6.7",
         "0.0",
         "1.318",
         "0.0",
         "0.603",
         "0.0",
         "220.709"
        ],
        [
         "6.7",
         "0.0",
         "0.0",
         "0.0",
         "0.0",
         "0.0",
         "0.0"
        ]
       ],
       "shape": {
        "columns": 6,
        "rows": 26
       }
      },
      "text/html": [
       "<div>\n",
       "<style scoped>\n",
       "    .dataframe tbody tr th:only-of-type {\n",
       "        vertical-align: middle;\n",
       "    }\n",
       "\n",
       "    .dataframe tbody tr th {\n",
       "        vertical-align: top;\n",
       "    }\n",
       "\n",
       "    .dataframe thead tr th {\n",
       "        text-align: left;\n",
       "    }\n",
       "</style>\n",
       "<table border=\"1\" class=\"dataframe\">\n",
       "  <thead>\n",
       "    <tr>\n",
       "      <th>Columna</th>\n",
       "      <th colspan=\"6\" halign=\"left\">Columna</th>\n",
       "    </tr>\n",
       "    <tr>\n",
       "      <th>x</th>\n",
       "      <th>M neg</th>\n",
       "      <th>M pos</th>\n",
       "      <th>V neg</th>\n",
       "      <th>V pos</th>\n",
       "      <th>N neg</th>\n",
       "      <th>N pos</th>\n",
       "    </tr>\n",
       "  </thead>\n",
       "  <tbody>\n",
       "    <tr>\n",
       "      <th>0.0000</th>\n",
       "      <td>0.0</td>\n",
       "      <td>0.000</td>\n",
       "      <td>0.0</td>\n",
       "      <td>0.000</td>\n",
       "      <td>0.0</td>\n",
       "      <td>0.000</td>\n",
       "    </tr>\n",
       "    <tr>\n",
       "      <th>0.0000</th>\n",
       "      <td>0.0</td>\n",
       "      <td>2.992</td>\n",
       "      <td>0.0</td>\n",
       "      <td>0.568</td>\n",
       "      <td>0.0</td>\n",
       "      <td>806.822</td>\n",
       "    </tr>\n",
       "    <tr>\n",
       "      <th>0.1675</th>\n",
       "      <td>0.0</td>\n",
       "      <td>2.902</td>\n",
       "      <td>0.0</td>\n",
       "      <td>0.568</td>\n",
       "      <td>0.0</td>\n",
       "      <td>806.822</td>\n",
       "    </tr>\n",
       "    <tr>\n",
       "      <th>0.3350</th>\n",
       "      <td>0.0</td>\n",
       "      <td>2.813</td>\n",
       "      <td>0.0</td>\n",
       "      <td>0.568</td>\n",
       "      <td>0.0</td>\n",
       "      <td>806.822</td>\n",
       "    </tr>\n",
       "    <tr>\n",
       "      <th>0.5025</th>\n",
       "      <td>0.0</td>\n",
       "      <td>2.725</td>\n",
       "      <td>0.0</td>\n",
       "      <td>0.568</td>\n",
       "      <td>0.0</td>\n",
       "      <td>806.822</td>\n",
       "    </tr>\n",
       "    <tr>\n",
       "      <th>0.6700</th>\n",
       "      <td>0.0</td>\n",
       "      <td>2.637</td>\n",
       "      <td>0.0</td>\n",
       "      <td>0.567</td>\n",
       "      <td>0.0</td>\n",
       "      <td>806.822</td>\n",
       "    </tr>\n",
       "    <tr>\n",
       "      <th>0.8375</th>\n",
       "      <td>0.0</td>\n",
       "      <td>2.549</td>\n",
       "      <td>0.0</td>\n",
       "      <td>0.567</td>\n",
       "      <td>0.0</td>\n",
       "      <td>806.822</td>\n",
       "    </tr>\n",
       "    <tr>\n",
       "      <th>1.0050</th>\n",
       "      <td>0.0</td>\n",
       "      <td>2.462</td>\n",
       "      <td>0.0</td>\n",
       "      <td>0.567</td>\n",
       "      <td>0.0</td>\n",
       "      <td>806.822</td>\n",
       "    </tr>\n",
       "    <tr>\n",
       "      <th>1.1725</th>\n",
       "      <td>0.0</td>\n",
       "      <td>2.376</td>\n",
       "      <td>0.0</td>\n",
       "      <td>0.566</td>\n",
       "      <td>0.0</td>\n",
       "      <td>806.822</td>\n",
       "    </tr>\n",
       "    <tr>\n",
       "      <th>1.3400</th>\n",
       "      <td>0.0</td>\n",
       "      <td>2.290</td>\n",
       "      <td>0.0</td>\n",
       "      <td>0.565</td>\n",
       "      <td>0.0</td>\n",
       "      <td>806.822</td>\n",
       "    </tr>\n",
       "    <tr>\n",
       "      <th>1.5080</th>\n",
       "      <td>0.0</td>\n",
       "      <td>2.205</td>\n",
       "      <td>0.0</td>\n",
       "      <td>0.563</td>\n",
       "      <td>0.0</td>\n",
       "      <td>806.822</td>\n",
       "    </tr>\n",
       "    <tr>\n",
       "      <th>1.6750</th>\n",
       "      <td>0.0</td>\n",
       "      <td>2.122</td>\n",
       "      <td>0.0</td>\n",
       "      <td>0.561</td>\n",
       "      <td>0.0</td>\n",
       "      <td>806.822</td>\n",
       "    </tr>\n",
       "    <tr>\n",
       "      <th>1.8425</th>\n",
       "      <td>0.0</td>\n",
       "      <td>2.039</td>\n",
       "      <td>0.0</td>\n",
       "      <td>0.559</td>\n",
       "      <td>0.0</td>\n",
       "      <td>806.822</td>\n",
       "    </tr>\n",
       "    <tr>\n",
       "      <th>2.0100</th>\n",
       "      <td>0.0</td>\n",
       "      <td>1.958</td>\n",
       "      <td>0.0</td>\n",
       "      <td>0.556</td>\n",
       "      <td>0.0</td>\n",
       "      <td>806.822</td>\n",
       "    </tr>\n",
       "    <tr>\n",
       "      <th>2.1775</th>\n",
       "      <td>0.0</td>\n",
       "      <td>1.877</td>\n",
       "      <td>0.0</td>\n",
       "      <td>0.553</td>\n",
       "      <td>0.0</td>\n",
       "      <td>806.822</td>\n",
       "    </tr>\n",
       "    <tr>\n",
       "      <th>2.3450</th>\n",
       "      <td>0.0</td>\n",
       "      <td>1.798</td>\n",
       "      <td>0.0</td>\n",
       "      <td>0.550</td>\n",
       "      <td>0.0</td>\n",
       "      <td>806.823</td>\n",
       "    </tr>\n",
       "    <tr>\n",
       "      <th>2.5125</th>\n",
       "      <td>0.0</td>\n",
       "      <td>1.721</td>\n",
       "      <td>0.0</td>\n",
       "      <td>0.546</td>\n",
       "      <td>0.0</td>\n",
       "      <td>806.823</td>\n",
       "    </tr>\n",
       "    <tr>\n",
       "      <th>2.6800</th>\n",
       "      <td>0.0</td>\n",
       "      <td>1.645</td>\n",
       "      <td>0.0</td>\n",
       "      <td>0.541</td>\n",
       "      <td>0.0</td>\n",
       "      <td>806.823</td>\n",
       "    </tr>\n",
       "    <tr>\n",
       "      <th>2.8475</th>\n",
       "      <td>0.0</td>\n",
       "      <td>1.571</td>\n",
       "      <td>0.0</td>\n",
       "      <td>0.531</td>\n",
       "      <td>0.0</td>\n",
       "      <td>806.823</td>\n",
       "    </tr>\n",
       "    <tr>\n",
       "      <th>3.0150</th>\n",
       "      <td>0.0</td>\n",
       "      <td>1.499</td>\n",
       "      <td>0.0</td>\n",
       "      <td>0.526</td>\n",
       "      <td>0.0</td>\n",
       "      <td>806.823</td>\n",
       "    </tr>\n",
       "    <tr>\n",
       "      <th>3.1825</th>\n",
       "      <td>0.0</td>\n",
       "      <td>1.428</td>\n",
       "      <td>0.0</td>\n",
       "      <td>0.520</td>\n",
       "      <td>0.0</td>\n",
       "      <td>806.823</td>\n",
       "    </tr>\n",
       "    <tr>\n",
       "      <th>3.3500</th>\n",
       "      <td>0.0</td>\n",
       "      <td>1.360</td>\n",
       "      <td>0.0</td>\n",
       "      <td>0.514</td>\n",
       "      <td>0.0</td>\n",
       "      <td>806.823</td>\n",
       "    </tr>\n",
       "    <tr>\n",
       "      <th>3.3500</th>\n",
       "      <td>0.0</td>\n",
       "      <td>3.087</td>\n",
       "      <td>0.0</td>\n",
       "      <td>0.603</td>\n",
       "      <td>0.0</td>\n",
       "      <td>220.709</td>\n",
       "    </tr>\n",
       "    <tr>\n",
       "      <th>5.0250</th>\n",
       "      <td>0.0</td>\n",
       "      <td>2.150</td>\n",
       "      <td>0.0</td>\n",
       "      <td>0.603</td>\n",
       "      <td>0.0</td>\n",
       "      <td>220.709</td>\n",
       "    </tr>\n",
       "    <tr>\n",
       "      <th>6.7000</th>\n",
       "      <td>0.0</td>\n",
       "      <td>1.318</td>\n",
       "      <td>0.0</td>\n",
       "      <td>0.603</td>\n",
       "      <td>0.0</td>\n",
       "      <td>220.709</td>\n",
       "    </tr>\n",
       "    <tr>\n",
       "      <th>6.7000</th>\n",
       "      <td>0.0</td>\n",
       "      <td>0.000</td>\n",
       "      <td>0.0</td>\n",
       "      <td>0.000</td>\n",
       "      <td>0.0</td>\n",
       "      <td>0.000</td>\n",
       "    </tr>\n",
       "  </tbody>\n",
       "</table>\n",
       "</div>"
      ],
      "text/plain": [
       "Columna Columna                                   \n",
       "x         M neg  M pos V neg  V pos N neg    N pos\n",
       "0.0000      0.0  0.000   0.0  0.000   0.0    0.000\n",
       "0.0000      0.0  2.992   0.0  0.568   0.0  806.822\n",
       "0.1675      0.0  2.902   0.0  0.568   0.0  806.822\n",
       "0.3350      0.0  2.813   0.0  0.568   0.0  806.822\n",
       "0.5025      0.0  2.725   0.0  0.568   0.0  806.822\n",
       "0.6700      0.0  2.637   0.0  0.567   0.0  806.822\n",
       "0.8375      0.0  2.549   0.0  0.567   0.0  806.822\n",
       "1.0050      0.0  2.462   0.0  0.567   0.0  806.822\n",
       "1.1725      0.0  2.376   0.0  0.566   0.0  806.822\n",
       "1.3400      0.0  2.290   0.0  0.565   0.0  806.822\n",
       "1.5080      0.0  2.205   0.0  0.563   0.0  806.822\n",
       "1.6750      0.0  2.122   0.0  0.561   0.0  806.822\n",
       "1.8425      0.0  2.039   0.0  0.559   0.0  806.822\n",
       "2.0100      0.0  1.958   0.0  0.556   0.0  806.822\n",
       "2.1775      0.0  1.877   0.0  0.553   0.0  806.822\n",
       "2.3450      0.0  1.798   0.0  0.550   0.0  806.823\n",
       "2.5125      0.0  1.721   0.0  0.546   0.0  806.823\n",
       "2.6800      0.0  1.645   0.0  0.541   0.0  806.823\n",
       "2.8475      0.0  1.571   0.0  0.531   0.0  806.823\n",
       "3.0150      0.0  1.499   0.0  0.526   0.0  806.823\n",
       "3.1825      0.0  1.428   0.0  0.520   0.0  806.823\n",
       "3.3500      0.0  1.360   0.0  0.514   0.0  806.823\n",
       "3.3500      0.0  3.087   0.0  0.603   0.0  220.709\n",
       "5.0250      0.0  2.150   0.0  0.603   0.0  220.709\n",
       "6.7000      0.0  1.318   0.0  0.603   0.0  220.709\n",
       "6.7000      0.0  0.000   0.0  0.000   0.0    0.000"
      ]
     },
     "execution_count": 109,
     "metadata": {},
     "output_type": "execute_result"
    }
   ],
   "source": [
    "df = df.round(3)\n",
    "df = df.fillna(0)\n",
    "df"
   ]
  },
  {
   "cell_type": "markdown",
   "metadata": {},
   "source": [
    "El archivo que estamos importando contiene el momento flector, corte y fuerza axial de una columna en un pórtico de concreto. Si le echamos un vistazo al\n",
    "archivo de Excel veremos que los datos tienen un encabezado que dice **Columna en la primera línea y luego otros sub-encabezados en la segunda.\n",
    "\n",
    "Para importar los datos hemos utilizado la función *read_excel*, especificando el nombre del archivo (si el archivo se encontrara en otra carpeta acá se\n",
    "deberá incluir el camino que lo precede). También pasamos el argumento **header** que especifica cuales líneas serán utilizadas como encabezamiento. Y\n",
    "con el parámetro **index_col** le indicamos a Pandas cual columna será utilizada como índice. En la línea dos especificamos la cantidad de decimales\n",
    "máximos que deseamos por valor numérico. Y finalmente utilizamos la función **head()** para mostrar las primeras filas del DataFrame.\n",
    "\n",
    "Pero el DataFrame que acabamos de crear necesita algunos retoques. Por ejemplo, en realidad no necesitamos el primer nivel dle encabezamiento que dice\n",
    "**Columna**. Tampoco necesitamos la primera línea de datos, debido a que solo está compuesta por ceros. Y si le damos un vistazo a la última fila veremos que\n",
    "contiene datos incompletos. Para mostrar las últimas filas del DataFrame podemos utilizar la función **tail()**:"
   ]
  },
  {
   "cell_type": "code",
   "execution_count": 110,
   "metadata": {},
   "outputs": [
    {
     "data": {
      "application/vnd.microsoft.datawrangler.viewer.v0+json": {
       "columns": [
        {
         "name": "index",
         "rawType": "float64",
         "type": "float"
        },
        {
         "name": "('Columna', 'M neg')",
         "rawType": "float64",
         "type": "float"
        },
        {
         "name": "('Columna', 'M pos')",
         "rawType": "float64",
         "type": "float"
        },
        {
         "name": "('Columna', 'V neg')",
         "rawType": "float64",
         "type": "float"
        },
        {
         "name": "('Columna', 'V pos')",
         "rawType": "float64",
         "type": "float"
        },
        {
         "name": "('Columna', 'N neg')",
         "rawType": "float64",
         "type": "float"
        },
        {
         "name": "('Columna', 'N pos')",
         "rawType": "float64",
         "type": "float"
        }
       ],
       "ref": "5c360a54-3360-4e07-b2d2-5415fa3c1497",
       "rows": [
        [
         "0.0",
         "0.0",
         "0.0",
         "0.0",
         "0.0",
         "0.0",
         "0.0"
        ],
        [
         "0.0",
         "0.0",
         "2.992",
         "0.0",
         "0.568",
         "0.0",
         "806.822"
        ],
        [
         "0.1675",
         "0.0",
         "2.902",
         "0.0",
         "0.568",
         "0.0",
         "806.822"
        ],
        [
         "0.335",
         "0.0",
         "2.813",
         "0.0",
         "0.568",
         "0.0",
         "806.822"
        ],
        [
         "0.5025",
         "0.0",
         "2.725",
         "0.0",
         "0.568",
         "0.0",
         "806.822"
        ]
       ],
       "shape": {
        "columns": 6,
        "rows": 5
       }
      },
      "text/html": [
       "<div>\n",
       "<style scoped>\n",
       "    .dataframe tbody tr th:only-of-type {\n",
       "        vertical-align: middle;\n",
       "    }\n",
       "\n",
       "    .dataframe tbody tr th {\n",
       "        vertical-align: top;\n",
       "    }\n",
       "\n",
       "    .dataframe thead tr th {\n",
       "        text-align: left;\n",
       "    }\n",
       "</style>\n",
       "<table border=\"1\" class=\"dataframe\">\n",
       "  <thead>\n",
       "    <tr>\n",
       "      <th>Columna</th>\n",
       "      <th colspan=\"6\" halign=\"left\">Columna</th>\n",
       "    </tr>\n",
       "    <tr>\n",
       "      <th>x</th>\n",
       "      <th>M neg</th>\n",
       "      <th>M pos</th>\n",
       "      <th>V neg</th>\n",
       "      <th>V pos</th>\n",
       "      <th>N neg</th>\n",
       "      <th>N pos</th>\n",
       "    </tr>\n",
       "  </thead>\n",
       "  <tbody>\n",
       "    <tr>\n",
       "      <th>0.0000</th>\n",
       "      <td>0.0</td>\n",
       "      <td>0.000</td>\n",
       "      <td>0.0</td>\n",
       "      <td>0.000</td>\n",
       "      <td>0.0</td>\n",
       "      <td>0.000</td>\n",
       "    </tr>\n",
       "    <tr>\n",
       "      <th>0.0000</th>\n",
       "      <td>0.0</td>\n",
       "      <td>2.992</td>\n",
       "      <td>0.0</td>\n",
       "      <td>0.568</td>\n",
       "      <td>0.0</td>\n",
       "      <td>806.822</td>\n",
       "    </tr>\n",
       "    <tr>\n",
       "      <th>0.1675</th>\n",
       "      <td>0.0</td>\n",
       "      <td>2.902</td>\n",
       "      <td>0.0</td>\n",
       "      <td>0.568</td>\n",
       "      <td>0.0</td>\n",
       "      <td>806.822</td>\n",
       "    </tr>\n",
       "    <tr>\n",
       "      <th>0.3350</th>\n",
       "      <td>0.0</td>\n",
       "      <td>2.813</td>\n",
       "      <td>0.0</td>\n",
       "      <td>0.568</td>\n",
       "      <td>0.0</td>\n",
       "      <td>806.822</td>\n",
       "    </tr>\n",
       "    <tr>\n",
       "      <th>0.5025</th>\n",
       "      <td>0.0</td>\n",
       "      <td>2.725</td>\n",
       "      <td>0.0</td>\n",
       "      <td>0.568</td>\n",
       "      <td>0.0</td>\n",
       "      <td>806.822</td>\n",
       "    </tr>\n",
       "  </tbody>\n",
       "</table>\n",
       "</div>"
      ],
      "text/plain": [
       "Columna Columna                                   \n",
       "x         M neg  M pos V neg  V pos N neg    N pos\n",
       "0.0000      0.0  0.000   0.0  0.000   0.0    0.000\n",
       "0.0000      0.0  2.992   0.0  0.568   0.0  806.822\n",
       "0.1675      0.0  2.902   0.0  0.568   0.0  806.822\n",
       "0.3350      0.0  2.813   0.0  0.568   0.0  806.822\n",
       "0.5025      0.0  2.725   0.0  0.568   0.0  806.822"
      ]
     },
     "execution_count": 110,
     "metadata": {},
     "output_type": "execute_result"
    }
   ],
   "source": [
    "df.head()"
   ]
  },
  {
   "cell_type": "code",
   "execution_count": 111,
   "metadata": {},
   "outputs": [
    {
     "data": {
      "application/vnd.microsoft.datawrangler.viewer.v0+json": {
       "columns": [
        {
         "name": "index",
         "rawType": "float64",
         "type": "float"
        },
        {
         "name": "('Columna', 'M neg')",
         "rawType": "float64",
         "type": "float"
        },
        {
         "name": "('Columna', 'M pos')",
         "rawType": "float64",
         "type": "float"
        },
        {
         "name": "('Columna', 'V neg')",
         "rawType": "float64",
         "type": "float"
        },
        {
         "name": "('Columna', 'V pos')",
         "rawType": "float64",
         "type": "float"
        },
        {
         "name": "('Columna', 'N neg')",
         "rawType": "float64",
         "type": "float"
        },
        {
         "name": "('Columna', 'N pos')",
         "rawType": "float64",
         "type": "float"
        }
       ],
       "ref": "1830e241-850e-469f-a7a4-706531167ce7",
       "rows": [
        [
         "3.35",
         "0.0",
         "1.36",
         "0.0",
         "0.514",
         "0.0",
         "806.823"
        ],
        [
         "3.35",
         "0.0",
         "3.087",
         "0.0",
         "0.603",
         "0.0",
         "220.709"
        ],
        [
         "5.025",
         "0.0",
         "2.15",
         "0.0",
         "0.603",
         "0.0",
         "220.709"
        ],
        [
         "6.7",
         "0.0",
         "1.318",
         "0.0",
         "0.603",
         "0.0",
         "220.709"
        ],
        [
         "6.7",
         "0.0",
         "0.0",
         "0.0",
         "0.0",
         "0.0",
         "0.0"
        ]
       ],
       "shape": {
        "columns": 6,
        "rows": 5
       }
      },
      "text/html": [
       "<div>\n",
       "<style scoped>\n",
       "    .dataframe tbody tr th:only-of-type {\n",
       "        vertical-align: middle;\n",
       "    }\n",
       "\n",
       "    .dataframe tbody tr th {\n",
       "        vertical-align: top;\n",
       "    }\n",
       "\n",
       "    .dataframe thead tr th {\n",
       "        text-align: left;\n",
       "    }\n",
       "</style>\n",
       "<table border=\"1\" class=\"dataframe\">\n",
       "  <thead>\n",
       "    <tr>\n",
       "      <th>Columna</th>\n",
       "      <th colspan=\"6\" halign=\"left\">Columna</th>\n",
       "    </tr>\n",
       "    <tr>\n",
       "      <th>x</th>\n",
       "      <th>M neg</th>\n",
       "      <th>M pos</th>\n",
       "      <th>V neg</th>\n",
       "      <th>V pos</th>\n",
       "      <th>N neg</th>\n",
       "      <th>N pos</th>\n",
       "    </tr>\n",
       "  </thead>\n",
       "  <tbody>\n",
       "    <tr>\n",
       "      <th>3.350</th>\n",
       "      <td>0.0</td>\n",
       "      <td>1.360</td>\n",
       "      <td>0.0</td>\n",
       "      <td>0.514</td>\n",
       "      <td>0.0</td>\n",
       "      <td>806.823</td>\n",
       "    </tr>\n",
       "    <tr>\n",
       "      <th>3.350</th>\n",
       "      <td>0.0</td>\n",
       "      <td>3.087</td>\n",
       "      <td>0.0</td>\n",
       "      <td>0.603</td>\n",
       "      <td>0.0</td>\n",
       "      <td>220.709</td>\n",
       "    </tr>\n",
       "    <tr>\n",
       "      <th>5.025</th>\n",
       "      <td>0.0</td>\n",
       "      <td>2.150</td>\n",
       "      <td>0.0</td>\n",
       "      <td>0.603</td>\n",
       "      <td>0.0</td>\n",
       "      <td>220.709</td>\n",
       "    </tr>\n",
       "    <tr>\n",
       "      <th>6.700</th>\n",
       "      <td>0.0</td>\n",
       "      <td>1.318</td>\n",
       "      <td>0.0</td>\n",
       "      <td>0.603</td>\n",
       "      <td>0.0</td>\n",
       "      <td>220.709</td>\n",
       "    </tr>\n",
       "    <tr>\n",
       "      <th>6.700</th>\n",
       "      <td>0.0</td>\n",
       "      <td>0.000</td>\n",
       "      <td>0.0</td>\n",
       "      <td>0.000</td>\n",
       "      <td>0.0</td>\n",
       "      <td>0.000</td>\n",
       "    </tr>\n",
       "  </tbody>\n",
       "</table>\n",
       "</div>"
      ],
      "text/plain": [
       "Columna Columna                                   \n",
       "x         M neg  M pos V neg  V pos N neg    N pos\n",
       "3.350       0.0  1.360   0.0  0.514   0.0  806.823\n",
       "3.350       0.0  3.087   0.0  0.603   0.0  220.709\n",
       "5.025       0.0  2.150   0.0  0.603   0.0  220.709\n",
       "6.700       0.0  1.318   0.0  0.603   0.0  220.709\n",
       "6.700       0.0  0.000   0.0  0.000   0.0    0.000"
      ]
     },
     "execution_count": 111,
     "metadata": {},
     "output_type": "execute_result"
    }
   ],
   "source": [
    "df.tail()"
   ]
  },
  {
   "cell_type": "markdown",
   "metadata": {},
   "source": [
    "Realizar estas modificaciones solo tomará unas pocas líneas de código:"
   ]
  },
  {
   "cell_type": "code",
   "execution_count": 112,
   "metadata": {},
   "outputs": [
    {
     "data": {
      "application/vnd.microsoft.datawrangler.viewer.v0+json": {
       "columns": [
        {
         "name": "index",
         "rawType": "float64",
         "type": "float"
        },
        {
         "name": "M neg",
         "rawType": "float64",
         "type": "float"
        },
        {
         "name": "M pos",
         "rawType": "float64",
         "type": "float"
        },
        {
         "name": "V neg",
         "rawType": "float64",
         "type": "float"
        },
        {
         "name": "V pos",
         "rawType": "float64",
         "type": "float"
        },
        {
         "name": "N neg",
         "rawType": "float64",
         "type": "float"
        },
        {
         "name": "N pos",
         "rawType": "float64",
         "type": "float"
        }
       ],
       "ref": "aa1f5062-1122-4600-8bdf-fecf758b9ed1",
       "rows": [
        [
         "0.1675",
         "0.0",
         "2.902",
         "0.0",
         "0.568",
         "0.0",
         "806.822"
        ],
        [
         "0.335",
         "0.0",
         "2.813",
         "0.0",
         "0.568",
         "0.0",
         "806.822"
        ],
        [
         "0.5025",
         "0.0",
         "2.725",
         "0.0",
         "0.568",
         "0.0",
         "806.822"
        ],
        [
         "0.67",
         "0.0",
         "2.637",
         "0.0",
         "0.567",
         "0.0",
         "806.822"
        ],
        [
         "0.8375",
         "0.0",
         "2.549",
         "0.0",
         "0.567",
         "0.0",
         "806.822"
        ],
        [
         "1.005",
         "0.0",
         "2.462",
         "0.0",
         "0.567",
         "0.0",
         "806.822"
        ],
        [
         "1.1725",
         "0.0",
         "2.376",
         "0.0",
         "0.566",
         "0.0",
         "806.822"
        ],
        [
         "1.34",
         "0.0",
         "2.29",
         "0.0",
         "0.565",
         "0.0",
         "806.822"
        ],
        [
         "1.508",
         "0.0",
         "2.205",
         "0.0",
         "0.563",
         "0.0",
         "806.822"
        ],
        [
         "1.675",
         "0.0",
         "2.122",
         "0.0",
         "0.561",
         "0.0",
         "806.822"
        ],
        [
         "1.8425",
         "0.0",
         "2.039",
         "0.0",
         "0.559",
         "0.0",
         "806.822"
        ],
        [
         "2.01",
         "0.0",
         "1.958",
         "0.0",
         "0.556",
         "0.0",
         "806.822"
        ],
        [
         "2.1775",
         "0.0",
         "1.877",
         "0.0",
         "0.553",
         "0.0",
         "806.822"
        ],
        [
         "2.345",
         "0.0",
         "1.798",
         "0.0",
         "0.55",
         "0.0",
         "806.823"
        ],
        [
         "2.5125",
         "0.0",
         "1.721",
         "0.0",
         "0.546",
         "0.0",
         "806.823"
        ],
        [
         "2.68",
         "0.0",
         "1.645",
         "0.0",
         "0.541",
         "0.0",
         "806.823"
        ],
        [
         "2.8475",
         "0.0",
         "1.571",
         "0.0",
         "0.531",
         "0.0",
         "806.823"
        ],
        [
         "3.015",
         "0.0",
         "1.499",
         "0.0",
         "0.526",
         "0.0",
         "806.823"
        ],
        [
         "3.1825",
         "0.0",
         "1.428",
         "0.0",
         "0.52",
         "0.0",
         "806.823"
        ],
        [
         "3.35",
         "0.0",
         "1.36",
         "0.0",
         "0.514",
         "0.0",
         "806.823"
        ],
        [
         "3.35",
         "0.0",
         "3.087",
         "0.0",
         "0.603",
         "0.0",
         "220.709"
        ],
        [
         "5.025",
         "0.0",
         "2.15",
         "0.0",
         "0.603",
         "0.0",
         "220.709"
        ],
        [
         "6.7",
         "0.0",
         "1.318",
         "0.0",
         "0.603",
         "0.0",
         "220.709"
        ],
        [
         "6.7",
         "0.0",
         "0.0",
         "0.0",
         "0.0",
         "0.0",
         "0.0"
        ]
       ],
       "shape": {
        "columns": 6,
        "rows": 24
       }
      },
      "text/html": [
       "<div>\n",
       "<style scoped>\n",
       "    .dataframe tbody tr th:only-of-type {\n",
       "        vertical-align: middle;\n",
       "    }\n",
       "\n",
       "    .dataframe tbody tr th {\n",
       "        vertical-align: top;\n",
       "    }\n",
       "\n",
       "    .dataframe thead th {\n",
       "        text-align: right;\n",
       "    }\n",
       "</style>\n",
       "<table border=\"1\" class=\"dataframe\">\n",
       "  <thead>\n",
       "    <tr style=\"text-align: right;\">\n",
       "      <th>x</th>\n",
       "      <th>M neg</th>\n",
       "      <th>M pos</th>\n",
       "      <th>V neg</th>\n",
       "      <th>V pos</th>\n",
       "      <th>N neg</th>\n",
       "      <th>N pos</th>\n",
       "    </tr>\n",
       "  </thead>\n",
       "  <tbody>\n",
       "    <tr>\n",
       "      <th>0.1675</th>\n",
       "      <td>0.0</td>\n",
       "      <td>2.902</td>\n",
       "      <td>0.0</td>\n",
       "      <td>0.568</td>\n",
       "      <td>0.0</td>\n",
       "      <td>806.822</td>\n",
       "    </tr>\n",
       "    <tr>\n",
       "      <th>0.3350</th>\n",
       "      <td>0.0</td>\n",
       "      <td>2.813</td>\n",
       "      <td>0.0</td>\n",
       "      <td>0.568</td>\n",
       "      <td>0.0</td>\n",
       "      <td>806.822</td>\n",
       "    </tr>\n",
       "    <tr>\n",
       "      <th>0.5025</th>\n",
       "      <td>0.0</td>\n",
       "      <td>2.725</td>\n",
       "      <td>0.0</td>\n",
       "      <td>0.568</td>\n",
       "      <td>0.0</td>\n",
       "      <td>806.822</td>\n",
       "    </tr>\n",
       "    <tr>\n",
       "      <th>0.6700</th>\n",
       "      <td>0.0</td>\n",
       "      <td>2.637</td>\n",
       "      <td>0.0</td>\n",
       "      <td>0.567</td>\n",
       "      <td>0.0</td>\n",
       "      <td>806.822</td>\n",
       "    </tr>\n",
       "    <tr>\n",
       "      <th>0.8375</th>\n",
       "      <td>0.0</td>\n",
       "      <td>2.549</td>\n",
       "      <td>0.0</td>\n",
       "      <td>0.567</td>\n",
       "      <td>0.0</td>\n",
       "      <td>806.822</td>\n",
       "    </tr>\n",
       "    <tr>\n",
       "      <th>1.0050</th>\n",
       "      <td>0.0</td>\n",
       "      <td>2.462</td>\n",
       "      <td>0.0</td>\n",
       "      <td>0.567</td>\n",
       "      <td>0.0</td>\n",
       "      <td>806.822</td>\n",
       "    </tr>\n",
       "    <tr>\n",
       "      <th>1.1725</th>\n",
       "      <td>0.0</td>\n",
       "      <td>2.376</td>\n",
       "      <td>0.0</td>\n",
       "      <td>0.566</td>\n",
       "      <td>0.0</td>\n",
       "      <td>806.822</td>\n",
       "    </tr>\n",
       "    <tr>\n",
       "      <th>1.3400</th>\n",
       "      <td>0.0</td>\n",
       "      <td>2.290</td>\n",
       "      <td>0.0</td>\n",
       "      <td>0.565</td>\n",
       "      <td>0.0</td>\n",
       "      <td>806.822</td>\n",
       "    </tr>\n",
       "    <tr>\n",
       "      <th>1.5080</th>\n",
       "      <td>0.0</td>\n",
       "      <td>2.205</td>\n",
       "      <td>0.0</td>\n",
       "      <td>0.563</td>\n",
       "      <td>0.0</td>\n",
       "      <td>806.822</td>\n",
       "    </tr>\n",
       "    <tr>\n",
       "      <th>1.6750</th>\n",
       "      <td>0.0</td>\n",
       "      <td>2.122</td>\n",
       "      <td>0.0</td>\n",
       "      <td>0.561</td>\n",
       "      <td>0.0</td>\n",
       "      <td>806.822</td>\n",
       "    </tr>\n",
       "    <tr>\n",
       "      <th>1.8425</th>\n",
       "      <td>0.0</td>\n",
       "      <td>2.039</td>\n",
       "      <td>0.0</td>\n",
       "      <td>0.559</td>\n",
       "      <td>0.0</td>\n",
       "      <td>806.822</td>\n",
       "    </tr>\n",
       "    <tr>\n",
       "      <th>2.0100</th>\n",
       "      <td>0.0</td>\n",
       "      <td>1.958</td>\n",
       "      <td>0.0</td>\n",
       "      <td>0.556</td>\n",
       "      <td>0.0</td>\n",
       "      <td>806.822</td>\n",
       "    </tr>\n",
       "    <tr>\n",
       "      <th>2.1775</th>\n",
       "      <td>0.0</td>\n",
       "      <td>1.877</td>\n",
       "      <td>0.0</td>\n",
       "      <td>0.553</td>\n",
       "      <td>0.0</td>\n",
       "      <td>806.822</td>\n",
       "    </tr>\n",
       "    <tr>\n",
       "      <th>2.3450</th>\n",
       "      <td>0.0</td>\n",
       "      <td>1.798</td>\n",
       "      <td>0.0</td>\n",
       "      <td>0.550</td>\n",
       "      <td>0.0</td>\n",
       "      <td>806.823</td>\n",
       "    </tr>\n",
       "    <tr>\n",
       "      <th>2.5125</th>\n",
       "      <td>0.0</td>\n",
       "      <td>1.721</td>\n",
       "      <td>0.0</td>\n",
       "      <td>0.546</td>\n",
       "      <td>0.0</td>\n",
       "      <td>806.823</td>\n",
       "    </tr>\n",
       "    <tr>\n",
       "      <th>2.6800</th>\n",
       "      <td>0.0</td>\n",
       "      <td>1.645</td>\n",
       "      <td>0.0</td>\n",
       "      <td>0.541</td>\n",
       "      <td>0.0</td>\n",
       "      <td>806.823</td>\n",
       "    </tr>\n",
       "    <tr>\n",
       "      <th>2.8475</th>\n",
       "      <td>0.0</td>\n",
       "      <td>1.571</td>\n",
       "      <td>0.0</td>\n",
       "      <td>0.531</td>\n",
       "      <td>0.0</td>\n",
       "      <td>806.823</td>\n",
       "    </tr>\n",
       "    <tr>\n",
       "      <th>3.0150</th>\n",
       "      <td>0.0</td>\n",
       "      <td>1.499</td>\n",
       "      <td>0.0</td>\n",
       "      <td>0.526</td>\n",
       "      <td>0.0</td>\n",
       "      <td>806.823</td>\n",
       "    </tr>\n",
       "    <tr>\n",
       "      <th>3.1825</th>\n",
       "      <td>0.0</td>\n",
       "      <td>1.428</td>\n",
       "      <td>0.0</td>\n",
       "      <td>0.520</td>\n",
       "      <td>0.0</td>\n",
       "      <td>806.823</td>\n",
       "    </tr>\n",
       "    <tr>\n",
       "      <th>3.3500</th>\n",
       "      <td>0.0</td>\n",
       "      <td>1.360</td>\n",
       "      <td>0.0</td>\n",
       "      <td>0.514</td>\n",
       "      <td>0.0</td>\n",
       "      <td>806.823</td>\n",
       "    </tr>\n",
       "    <tr>\n",
       "      <th>3.3500</th>\n",
       "      <td>0.0</td>\n",
       "      <td>3.087</td>\n",
       "      <td>0.0</td>\n",
       "      <td>0.603</td>\n",
       "      <td>0.0</td>\n",
       "      <td>220.709</td>\n",
       "    </tr>\n",
       "    <tr>\n",
       "      <th>5.0250</th>\n",
       "      <td>0.0</td>\n",
       "      <td>2.150</td>\n",
       "      <td>0.0</td>\n",
       "      <td>0.603</td>\n",
       "      <td>0.0</td>\n",
       "      <td>220.709</td>\n",
       "    </tr>\n",
       "    <tr>\n",
       "      <th>6.7000</th>\n",
       "      <td>0.0</td>\n",
       "      <td>1.318</td>\n",
       "      <td>0.0</td>\n",
       "      <td>0.603</td>\n",
       "      <td>0.0</td>\n",
       "      <td>220.709</td>\n",
       "    </tr>\n",
       "    <tr>\n",
       "      <th>6.7000</th>\n",
       "      <td>0.0</td>\n",
       "      <td>0.000</td>\n",
       "      <td>0.0</td>\n",
       "      <td>0.000</td>\n",
       "      <td>0.0</td>\n",
       "      <td>0.000</td>\n",
       "    </tr>\n",
       "  </tbody>\n",
       "</table>\n",
       "</div>"
      ],
      "text/plain": [
       "x       M neg  M pos  V neg  V pos  N neg    N pos\n",
       "0.1675    0.0  2.902    0.0  0.568    0.0  806.822\n",
       "0.3350    0.0  2.813    0.0  0.568    0.0  806.822\n",
       "0.5025    0.0  2.725    0.0  0.568    0.0  806.822\n",
       "0.6700    0.0  2.637    0.0  0.567    0.0  806.822\n",
       "0.8375    0.0  2.549    0.0  0.567    0.0  806.822\n",
       "1.0050    0.0  2.462    0.0  0.567    0.0  806.822\n",
       "1.1725    0.0  2.376    0.0  0.566    0.0  806.822\n",
       "1.3400    0.0  2.290    0.0  0.565    0.0  806.822\n",
       "1.5080    0.0  2.205    0.0  0.563    0.0  806.822\n",
       "1.6750    0.0  2.122    0.0  0.561    0.0  806.822\n",
       "1.8425    0.0  2.039    0.0  0.559    0.0  806.822\n",
       "2.0100    0.0  1.958    0.0  0.556    0.0  806.822\n",
       "2.1775    0.0  1.877    0.0  0.553    0.0  806.822\n",
       "2.3450    0.0  1.798    0.0  0.550    0.0  806.823\n",
       "2.5125    0.0  1.721    0.0  0.546    0.0  806.823\n",
       "2.6800    0.0  1.645    0.0  0.541    0.0  806.823\n",
       "2.8475    0.0  1.571    0.0  0.531    0.0  806.823\n",
       "3.0150    0.0  1.499    0.0  0.526    0.0  806.823\n",
       "3.1825    0.0  1.428    0.0  0.520    0.0  806.823\n",
       "3.3500    0.0  1.360    0.0  0.514    0.0  806.823\n",
       "3.3500    0.0  3.087    0.0  0.603    0.0  220.709\n",
       "5.0250    0.0  2.150    0.0  0.603    0.0  220.709\n",
       "6.7000    0.0  1.318    0.0  0.603    0.0  220.709\n",
       "6.7000    0.0  0.000    0.0  0.000    0.0    0.000"
      ]
     },
     "execution_count": 112,
     "metadata": {},
     "output_type": "execute_result"
    }
   ],
   "source": [
    "df.columns = df.columns.droplevel(0)\n",
    "df = df.dropna()\n",
    "df = df.drop(0)\n",
    "df"
   ]
  },
  {
   "cell_type": "markdown",
   "metadata": {},
   "source": [
    "En la primera línea estamos borrando el primer nivel del encabezado haciendo uso de **droplevel**. En la línea 2 utilizamos la función **dropna** para\n",
    "borrar cualquier fila que contenga valores *NaN* (*NaN Non A Value* o *no un valor*). Los valores NaN representan datos faltantes. Finalmente borramos la\n",
    "primera línea de datos con la función **drop**. Este es un ejemplo muy simple de lo que se conoce como la etapa de limpieza y preprocesado de datos. Tarea\n",
    "común en Ciencia de Datos.\n",
    "\n",
    "#### Cargar un archivo *csv*\n",
    "\n",
    "Los archivos de valores separados por coma (CSV por *Comma Separated Values*) son otro formato comúnmente utilizados para almacenar datos. Podemos abrir un\n",
    "archivo csv en cualquier editor de texto instalado en nuestro computador. Para el siguiente ejemplos vamos a utilizar el archivo *ejemplo_viga.csv*. Y se\n",
    "cargará de forma análoga al caso de los archivos de Excel, pero utilizando la función **read_csv**:"
   ]
  },
  {
   "cell_type": "code",
   "execution_count": 113,
   "metadata": {},
   "outputs": [
    {
     "data": {
      "application/vnd.microsoft.datawrangler.viewer.v0+json": {
       "columns": [
        {
         "name": "index",
         "rawType": "int64",
         "type": "integer"
        },
        {
         "name": "x",
         "rawType": "float64",
         "type": "float"
        },
        {
         "name": "M neg",
         "rawType": "float64",
         "type": "float"
        },
        {
         "name": "M pos",
         "rawType": "float64",
         "type": "float"
        },
        {
         "name": "T neg",
         "rawType": "float64",
         "type": "float"
        },
        {
         "name": "T pos",
         "rawType": "float64",
         "type": "float"
        },
        {
         "name": "N neg",
         "rawType": "float64",
         "type": "float"
        },
        {
         "name": " N pos",
         "rawType": "float64",
         "type": "float"
        }
       ],
       "ref": "7ee5056e-4970-47fd-aa56-0f2207c78ba8",
       "rows": [
        [
         "0",
         null,
         null,
         null,
         null,
         null,
         null,
         null
        ],
        [
         "1",
         "0.0",
         "0.0",
         "0.0",
         "0.0",
         "0.0",
         "0.0",
         "0.0"
        ]
       ],
       "shape": {
        "columns": 7,
        "rows": 2
       }
      },
      "text/html": [
       "<div>\n",
       "<style scoped>\n",
       "    .dataframe tbody tr th:only-of-type {\n",
       "        vertical-align: middle;\n",
       "    }\n",
       "\n",
       "    .dataframe tbody tr th {\n",
       "        vertical-align: top;\n",
       "    }\n",
       "\n",
       "    .dataframe thead th {\n",
       "        text-align: right;\n",
       "    }\n",
       "</style>\n",
       "<table border=\"1\" class=\"dataframe\">\n",
       "  <thead>\n",
       "    <tr style=\"text-align: right;\">\n",
       "      <th></th>\n",
       "      <th>x</th>\n",
       "      <th>M neg</th>\n",
       "      <th>M pos</th>\n",
       "      <th>T neg</th>\n",
       "      <th>T pos</th>\n",
       "      <th>N neg</th>\n",
       "      <th>N pos</th>\n",
       "    </tr>\n",
       "  </thead>\n",
       "  <tbody>\n",
       "    <tr>\n",
       "      <th>0</th>\n",
       "      <td>NaN</td>\n",
       "      <td>NaN</td>\n",
       "      <td>NaN</td>\n",
       "      <td>NaN</td>\n",
       "      <td>NaN</td>\n",
       "      <td>NaN</td>\n",
       "      <td>NaN</td>\n",
       "    </tr>\n",
       "    <tr>\n",
       "      <th>1</th>\n",
       "      <td>0.0</td>\n",
       "      <td>0.0</td>\n",
       "      <td>0.0</td>\n",
       "      <td>0.0</td>\n",
       "      <td>0.0</td>\n",
       "      <td>0.0</td>\n",
       "      <td>0.0</td>\n",
       "    </tr>\n",
       "  </tbody>\n",
       "</table>\n",
       "</div>"
      ],
      "text/plain": [
       "     x  M neg  M pos  T neg  T pos  N neg   N pos\n",
       "0  NaN    NaN    NaN    NaN    NaN    NaN     NaN\n",
       "1  0.0    0.0    0.0    0.0    0.0    0.0     0.0"
      ]
     },
     "execution_count": 113,
     "metadata": {},
     "output_type": "execute_result"
    }
   ],
   "source": [
    "df = pd.read_csv(\"datos/ejemplo_viga.csv\", header=1)\n",
    "df"
   ]
  },
  {
   "cell_type": "code",
   "execution_count": 114,
   "metadata": {},
   "outputs": [
    {
     "data": {
      "application/vnd.microsoft.datawrangler.viewer.v0+json": {
       "columns": [
        {
         "name": "index",
         "rawType": "int64",
         "type": "integer"
        },
        {
         "name": "x",
         "rawType": "float64",
         "type": "float"
        },
        {
         "name": "M neg",
         "rawType": "float64",
         "type": "float"
        },
        {
         "name": "M pos",
         "rawType": "float64",
         "type": "float"
        },
        {
         "name": "T neg",
         "rawType": "float64",
         "type": "float"
        },
        {
         "name": "T pos",
         "rawType": "float64",
         "type": "float"
        },
        {
         "name": "N neg",
         "rawType": "float64",
         "type": "float"
        },
        {
         "name": " N pos",
         "rawType": "float64",
         "type": "float"
        }
       ],
       "ref": "f6cb18db-ca05-4844-888e-d35745fff058",
       "rows": [
        [
         "0",
         "0.0",
         "0.0",
         "0.0",
         "0.0",
         "0.0",
         "0.0",
         "0.0"
        ]
       ],
       "shape": {
        "columns": 7,
        "rows": 1
       }
      },
      "text/html": [
       "<div>\n",
       "<style scoped>\n",
       "    .dataframe tbody tr th:only-of-type {\n",
       "        vertical-align: middle;\n",
       "    }\n",
       "\n",
       "    .dataframe tbody tr th {\n",
       "        vertical-align: top;\n",
       "    }\n",
       "\n",
       "    .dataframe thead th {\n",
       "        text-align: right;\n",
       "    }\n",
       "</style>\n",
       "<table border=\"1\" class=\"dataframe\">\n",
       "  <thead>\n",
       "    <tr style=\"text-align: right;\">\n",
       "      <th></th>\n",
       "      <th>x</th>\n",
       "      <th>M neg</th>\n",
       "      <th>M pos</th>\n",
       "      <th>T neg</th>\n",
       "      <th>T pos</th>\n",
       "      <th>N neg</th>\n",
       "      <th>N pos</th>\n",
       "    </tr>\n",
       "  </thead>\n",
       "  <tbody>\n",
       "    <tr>\n",
       "      <th>0</th>\n",
       "      <td>0.0</td>\n",
       "      <td>0.0</td>\n",
       "      <td>0.0</td>\n",
       "      <td>0.0</td>\n",
       "      <td>0.0</td>\n",
       "      <td>0.0</td>\n",
       "      <td>0.0</td>\n",
       "    </tr>\n",
       "  </tbody>\n",
       "</table>\n",
       "</div>"
      ],
      "text/plain": [
       "     x  M neg  M pos  T neg  T pos  N neg   N pos\n",
       "0  0.0    0.0    0.0    0.0    0.0    0.0     0.0"
      ]
     },
     "execution_count": 114,
     "metadata": {},
     "output_type": "execute_result"
    }
   ],
   "source": [
    "df = df.round(3)\n",
    "df = df.dropna()\n",
    "df = df.reset_index(drop=True)\n",
    "df"
   ]
  },
  {
   "cell_type": "code",
   "execution_count": null,
   "metadata": {},
   "outputs": [
    {
     "data": {
      "application/vnd.microsoft.datawrangler.viewer.v0+json": {
       "columns": [
        {
         "name": "index",
         "rawType": "int64",
         "type": "integer"
        },
        {
         "name": "x",
         "rawType": "float64",
         "type": "float"
        },
        {
         "name": "M neg",
         "rawType": "float64",
         "type": "float"
        },
        {
         "name": "M pos",
         "rawType": "float64",
         "type": "float"
        },
        {
         "name": "T neg",
         "rawType": "float64",
         "type": "float"
        },
        {
         "name": "T pos",
         "rawType": "float64",
         "type": "float"
        },
        {
         "name": "N neg",
         "rawType": "float64",
         "type": "float"
        },
        {
         "name": " N pos",
         "rawType": "float64",
         "type": "float"
        }
       ],
       "ref": "88dc5bd7-4d3e-4e3c-a002-bfab47192c00",
       "rows": [
        [
         "0",
         "0.0",
         "0.0",
         "0.0",
         "0.0",
         "0.0",
         "0.0",
         "0.0"
        ]
       ],
       "shape": {
        "columns": 7,
        "rows": 1
       }
      },
      "text/html": [
       "<div>\n",
       "<style scoped>\n",
       "    .dataframe tbody tr th:only-of-type {\n",
       "        vertical-align: middle;\n",
       "    }\n",
       "\n",
       "    .dataframe tbody tr th {\n",
       "        vertical-align: top;\n",
       "    }\n",
       "\n",
       "    .dataframe thead th {\n",
       "        text-align: right;\n",
       "    }\n",
       "</style>\n",
       "<table border=\"1\" class=\"dataframe\">\n",
       "  <thead>\n",
       "    <tr style=\"text-align: right;\">\n",
       "      <th></th>\n",
       "      <th>x</th>\n",
       "      <th>M neg</th>\n",
       "      <th>M pos</th>\n",
       "      <th>T neg</th>\n",
       "      <th>T pos</th>\n",
       "      <th>N neg</th>\n",
       "      <th>N pos</th>\n",
       "    </tr>\n",
       "  </thead>\n",
       "  <tbody>\n",
       "    <tr>\n",
       "      <th>0</th>\n",
       "      <td>0.0</td>\n",
       "      <td>0.0</td>\n",
       "      <td>0.0</td>\n",
       "      <td>0.0</td>\n",
       "      <td>0.0</td>\n",
       "      <td>0.0</td>\n",
       "      <td>0.0</td>\n",
       "    </tr>\n",
       "  </tbody>\n",
       "</table>\n",
       "</div>"
      ],
      "text/plain": [
       "     x  M neg  M pos  T neg  T pos  N neg   N pos\n",
       "0  0.0    0.0    0.0    0.0    0.0    0.0     0.0"
      ]
     },
     "execution_count": 115,
     "metadata": {},
     "output_type": "execute_result"
    }
   ],
   "source": [
    "df.head()"
   ]
  },
  {
   "cell_type": "code",
   "execution_count": null,
   "metadata": {},
   "outputs": [],
   "source": [
    "df.to_csv(\"output.csv\", index=False)\n",
    "# df.to_excel(\"exportado1.xlsx\", index=False)"
   ]
  }
 ],
 "metadata": {
  "kernelspec": {
   "display_name": "venv-pandas",
   "language": "python",
   "name": "python3"
  },
  "language_info": {
   "codemirror_mode": {
    "name": "ipython",
    "version": 3
   },
   "file_extension": ".py",
   "mimetype": "text/x-python",
   "name": "python",
   "nbconvert_exporter": "python",
   "pygments_lexer": "ipython3",
   "version": "3.13.1"
  }
 },
 "nbformat": 4,
 "nbformat_minor": 2
}
